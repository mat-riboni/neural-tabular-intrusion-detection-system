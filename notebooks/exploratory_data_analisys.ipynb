{
 "cells": [
  {
   "cell_type": "markdown",
   "id": "93d3484b",
   "metadata": {},
   "source": [
    "# Exploration Data Analisys"
   ]
  },
  {
   "cell_type": "markdown",
   "id": "87e61d8d",
   "metadata": {},
   "source": [
    "## Imports"
   ]
  },
  {
   "cell_type": "code",
   "execution_count": 11,
   "id": "9814fccd",
   "metadata": {},
   "outputs": [],
   "source": [
    "import pandas as pd\n",
    "import numpy as np\n",
    "import matplotlib.pyplot as plt \n",
    "import seaborn as sbn\n",
    "\n",
    "pd.set_option('display.max_columns', None) \n",
    "pd.set_option('display.max_rows', 100)     \n",
    "pd.set_option('display.width', 1000)      "
   ]
  },
  {
   "cell_type": "markdown",
   "id": "45bca3d5",
   "metadata": {},
   "source": [
    "### Load dataset"
   ]
  },
  {
   "cell_type": "code",
   "execution_count": null,
   "id": "3c161100",
   "metadata": {},
   "outputs": [
    {
     "name": "stdout",
     "output_type": "stream",
     "text": [
      "Dataset loaded\n"
     ]
    }
   ],
   "source": [
    "try:\n",
    "    df = pd.read_csv('../resources/dataset/NF-UNSW-NB15-v3.csv')\n",
    "    print('Dataset loaded')\n",
    "except FileNotFoundError:\n",
    "    print('File not found. Remember to place the dataset in resources/dataset')"
   ]
  },
  {
   "cell_type": "markdown",
   "id": "6d4f9177",
   "metadata": {},
   "source": [
    "### Dataset Shape"
   ]
  },
  {
   "cell_type": "code",
   "execution_count": null,
   "id": "33f4618c",
   "metadata": {},
   "outputs": [
    {
     "name": "stdout",
     "output_type": "stream",
     "text": [
      "Number of rows: 2365424\n",
      "Number of columns: 55\n",
      "                                         0              1              2              3              4\n",
      "FLOW_START_MILLISECONDS      1424242193040  1424242192744  1424242190649  1424242193145  1424242193239\n",
      "FLOW_END_MILLISECONDS        1424242193043  1424242193079  1424242193109  1424242193146  1424242193241\n",
      "IPV4_SRC_ADDR                   59.166.0.2     59.166.0.4     59.166.0.0     59.166.0.8     59.166.0.1\n",
      "L4_SRC_PORT                           4894          52671          47290          43310          45870\n",
      "IPV4_DST_ADDR                149.171.126.3  149.171.126.6  149.171.126.9  149.171.126.7  149.171.126.1\n",
      "L4_DST_PORT                             53          31992           6881             53             53\n",
      "PROTOCOL                                17              6              6             17             17\n",
      "L7_PROTO                               5.0           11.0           37.0            5.0            5.0\n",
      "IN_BYTES                               146           4704          13662            146            130\n",
      "IN_PKTS                                  2             28            238              2              2\n",
      "OUT_BYTES                              178           2976         548216            178            162\n",
      "OUT_PKTS                                 2             28            438              2              2\n",
      "TCP_FLAGS                                0             27             27              0              0\n",
      "CLIENT_TCP_FLAGS                         0             27             27              0              0\n",
      "SERVER_TCP_FLAGS                         0             27             27              0              0\n",
      "FLOW_DURATION_MILLISECONDS               2            335           2460              1              1\n",
      "DURATION_IN                              0            334           2459              0              0\n",
      "DURATION_OUT                             0            334           2459              0              0\n",
      "MIN_TTL                                 31             31             31             31             31\n",
      "MAX_TTL                                 31             32             32             31             31\n",
      "LONGEST_FLOW_PKT                        89            984           1500             89             81\n",
      "SHORTEST_FLOW_PKT                       73             52             52             73             65\n",
      "MIN_IP_PKT_LEN                          73             52             52             73             65\n",
      "MAX_IP_PKT_LEN                          89            984           1500             89             81\n",
      "SRC_TO_DST_SECOND_BYTES               89.0       8.883582     222.852033          178.0          162.0\n",
      "DST_TO_SRC_SECOND_BYTES               73.0      14.041791       5.553659          146.0          130.0\n",
      "RETRANSMITTED_IN_BYTES                   0           1988           1735              0              0\n",
      "RETRANSMITTED_IN_PKTS                    0              7             21              0              0\n",
      "RETRANSMITTED_OUT_BYTES                  0           1068         272908              0              0\n",
      "RETRANSMITTED_OUT_PKTS                   0              6            196              0              0\n",
      "SRC_TO_DST_AVG_THROUGHPUT           389333         112000          44411         584000         520000\n",
      "DST_TO_SRC_AVG_THROUGHPUT           474666          70857        1782091         712000         648000\n",
      "NUM_PKTS_UP_TO_128_BYTES                 4             34            288              4              4\n",
      "NUM_PKTS_128_TO_256_BYTES                0             18              0              0              0\n",
      "NUM_PKTS_256_TO_512_BYTES                0              2              4              0              0\n",
      "NUM_PKTS_512_TO_1024_BYTES               0              2             32              0              0\n",
      "NUM_PKTS_1024_TO_1514_BYTES              0              0            352              0              0\n",
      "TCP_WIN_MAX_IN                           0          14480          65160              0              0\n",
      "TCP_WIN_MAX_OUT                          0          14480          34752              0              0\n",
      "ICMP_TYPE                                0          50176          50944              0              0\n",
      "ICMP_IPV4_TYPE                           0            196            199              0              0\n",
      "DNS_QUERY_ID                         46779              0              0           3211           5771\n",
      "DNS_QUERY_TYPE                           1              0              0              1              1\n",
      "DNS_TTL_ANSWER                          60              0              0             60             60\n",
      "FTP_COMMAND_RET_CODE                     0              0              0              0              0\n",
      "SRC_TO_DST_IAT_MIN                       0              0              0              0              0\n",
      "SRC_TO_DST_IAT_MAX                       0             91           1843              0              0\n",
      "SRC_TO_DST_IAT_AVG                       0             12             10              0              0\n",
      "SRC_TO_DST_IAT_STDDEV                    0             19            119              0              0\n",
      "DST_TO_SRC_IAT_MIN                       0              0              0              0              0\n",
      "DST_TO_SRC_IAT_MAX                       0             90           1843              0              0\n",
      "DST_TO_SRC_IAT_AVG                       0             12              5              0              0\n",
      "DST_TO_SRC_IAT_STDDEV                    0             19             88              0              0\n",
      "Label                                    0              0              0              0              0\n",
      "Attack                              Benign         Benign         Benign         Benign         Benign\n",
      "\n",
      "Missing values per column (none for other columns):\n",
      "SRC_TO_DST_SECOND_BYTES    63425\n",
      "dtype: int64\n"
     ]
    }
   ],
   "source": [
    "print(f\"Number of rows: {df.shape[0]}\")\n",
    "print(f\"Number of columns: {df.shape[1]}\")\n",
    "\n",
    "print(df.head().T)\n",
    "\n",
    "null_vals = df.isnull().sum()\n",
    "print(\"\\nMissing values per column (none for other columns):\")\n",
    "print(null_vals[null_vals > 0])\n",
    "\n",
    "#print(\"\\nDataset infos:\") #Too long\n",
    "#print(dataset.info())"
   ]
  },
  {
   "cell_type": "markdown",
   "id": "8766f8d9",
   "metadata": {},
   "source": [
    "### Target variable analysis"
   ]
  },
  {
   "cell_type": "code",
   "execution_count": null,
   "id": "6518ea1f",
   "metadata": {},
   "outputs": [
    {
     "name": "stdout",
     "output_type": "stream",
     "text": [
      "Attack categories:\n",
      "['Benign' 'Fuzzers' 'Exploits' 'Backdoor' 'Reconnaissance' 'Generic' 'DoS'\n",
      " 'Shellcode' 'Analysis' 'Worms']\n"
     ]
    }
   ],
   "source": [
    "attack_cat = df['Attack']\n",
    "\n",
    "print(\"Attack categories:\")\n",
    "print(attack_cat.unique())"
   ]
  },
  {
   "cell_type": "code",
   "execution_count": 9,
   "id": "3d88a15c",
   "metadata": {},
   "outputs": [
    {
     "name": "stdout",
     "output_type": "stream",
     "text": [
      "Distribution of attacks categories:\n",
      "Attack\n",
      "Benign            94.601687\n",
      "Exploits           1.807202\n",
      "Fuzzers            1.429596\n",
      "Generic            0.830760\n",
      "Reconnaissance     0.721816\n",
      "DoS                0.252809\n",
      "Backdoor           0.196963\n",
      "Shellcode          0.100658\n",
      "Analysis           0.051830\n",
      "Worms              0.006680\n",
      "Name: proportion, dtype: float64\n"
     ]
    }
   ],
   "source": [
    "print(\"Distribution of attacks categories:\")\n",
    "print(attack_cat.value_counts(normalize=True) * 100)"
   ]
  },
  {
   "cell_type": "code",
   "execution_count": null,
   "id": "55699f5f",
   "metadata": {},
   "outputs": [
    {
     "data": {
      "image/png": "[encoded data removed]",
      "text/plain": [
       "<Figure size 640x480 with 1 Axes>"
      ]
     },
     "metadata": {},
     "output_type": "display_data"
    }
   ],
   "source": [
    "plt.figure()\n",
    "malicious = attack_cat[attack_cat != 'Benign']\n",
    "sbn.countplot(y='Attack', data=df, order = attack_cat.value_counts().index)\n",
    "plt.title('Distribution of Attack Categories except Benign')\n",
    "plt.tight_layout()\n",
    "plt.show()"
   ]
  },
  {
   "cell_type": "code",
   "execution_count": null,
   "id": "af4dc087",
   "metadata": {},
   "outputs": [
    {
     "name": "stdout",
     "output_type": "stream",
     "text": [
      "Distribution of targer variable (label):\n",
      "Label\n",
      "0    94.601687\n",
      "1     5.398313\n",
      "Name: proportion, dtype: float64\n"
     ]
    }
   ],
   "source": [
    "print(\"Distribution of targer variable (label):\")\n",
    "print(df['Label'].value_counts(normalize=True) * 100)"
   ]
  }
 ],
 "metadata": {
  "kernelspec": {
   "display_name": "venv",
   "language": "python",
   "name": "python3"
  },
  "language_info": {
   "codemirror_mode": {
    "name": "ipython",
    "version": 3
   },
   "file_extension": ".py",
   "mimetype": "text/x-python",
   "name": "python",
   "nbconvert_exporter": "python",
   "pygments_lexer": "ipython3",
   "version": "3.12.3"
  }
 },
 "nbformat": 4,
 "nbformat_minor": 5
}
