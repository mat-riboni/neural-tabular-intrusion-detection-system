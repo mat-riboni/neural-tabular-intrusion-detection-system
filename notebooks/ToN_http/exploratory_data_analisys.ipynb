{
 "cells": [
  {
   "cell_type": "markdown",
   "id": "93d3484b",
   "metadata": {},
   "source": [
    "# Exploratory Data Analisys"
   ]
  },
  {
   "cell_type": "markdown",
   "id": "87e61d8d",
   "metadata": {},
   "source": [
    "### Imports"
   ]
  },
  {
   "cell_type": "code",
   "execution_count": 8,
   "id": "9814fccd",
   "metadata": {},
   "outputs": [],
   "source": [
    "import pandas as pd\n",
    "import numpy as np\n",
    "import matplotlib.pyplot as plt \n",
    "import seaborn as sbn   \n",
    "import scipy.stats as ss"
   ]
  },
  {
   "cell_type": "markdown",
   "id": "45bca3d5",
   "metadata": {},
   "source": [
    "### Load dataset"
   ]
  },
  {
   "cell_type": "code",
   "execution_count": 9,
   "id": "3c161100",
   "metadata": {},
   "outputs": [
    {
     "name": "stdout",
     "output_type": "stream",
     "text": [
      "Dataset loaded\n"
     ]
    }
   ],
   "source": [
    "try:\n",
    "    df = pd.read_csv('../../resources/dataset/http_ton.csv')\n",
    "    print('Dataset loaded')\n",
    "except FileNotFoundError:\n",
    "    print('File not found. Remember to place the dataset in resources/dataset')"
   ]
  },
  {
   "cell_type": "markdown",
   "id": "6d4f9177",
   "metadata": {},
   "source": [
    "### Dataset Shape"
   ]
  },
  {
   "cell_type": "code",
   "execution_count": 13,
   "id": "33f4618c",
   "metadata": {},
   "outputs": [
    {
     "name": "stdout",
     "output_type": "stream",
     "text": [
      "Number of rows: 3440744\n",
      "Number of columns: 26\n",
      "                                    0  \\\n",
      "Unnamed: 0                          0   \n",
      "src_ip                  192.168.1.195   \n",
      "src_port                        50058   \n",
      "dst_ip                    192.168.1.1   \n",
      "dst_port                        41952   \n",
      "proto                             tcp   \n",
      "duration                     0.803513   \n",
      "src_bytes                         383   \n",
      "dst_bytes                        3882   \n",
      "conn_state                         SF   \n",
      "missed_bytes                        0   \n",
      "src_pkts                           10   \n",
      "src_ip_bytes                      795   \n",
      "dst_pkts                           12   \n",
      "dst_ip_bytes                     4374   \n",
      "http_method                   missing   \n",
      "http_uri                      missing   \n",
      "http_referrer                 missing   \n",
      "http_request_body_len               0   \n",
      "http_response_body_len              0   \n",
      "http_status_code                    0   \n",
      "http_user_agent               missing   \n",
      "http_orig_mime_types          missing   \n",
      "http_resp_mime_types          missing   \n",
      "label                               0   \n",
      "type                           normal   \n",
      "\n",
      "                                                                 1  \\\n",
      "Unnamed: 0                                                       1   \n",
      "src_ip                                               192.168.1.195   \n",
      "src_port                                                     50060   \n",
      "dst_ip                                                 192.168.1.1   \n",
      "dst_port                                                     41952   \n",
      "proto                                                          tcp   \n",
      "duration                                                  0.106266   \n",
      "src_bytes                                                      226   \n",
      "dst_bytes                                                     3978   \n",
      "conn_state                                                      SF   \n",
      "missed_bytes                                                     0   \n",
      "src_pkts                                                         8   \n",
      "src_ip_bytes                                                   558   \n",
      "dst_pkts                                                         9   \n",
      "dst_ip_bytes                                                  4350   \n",
      "http_method                                                    GET   \n",
      "http_uri                /no_nonce_string/ContentDirectory/scpd.xml   \n",
      "http_referrer                                              missing   \n",
      "http_request_body_len                                            0   \n",
      "http_response_body_len                                        3602   \n",
      "http_status_code                                               200   \n",
      "http_user_agent                    Microsoft-Windows/10.0 UPnP/1.0   \n",
      "http_orig_mime_types                                       missing   \n",
      "http_resp_mime_types                               application/xml   \n",
      "label                                                            0   \n",
      "type                                                        normal   \n",
      "\n",
      "                                        2  \\\n",
      "Unnamed: 0                              2   \n",
      "src_ip                      192.168.1.195   \n",
      "src_port                            50061   \n",
      "dst_ip                        192.168.1.1   \n",
      "dst_port                            41952   \n",
      "proto                                 tcp   \n",
      "duration                         0.748844   \n",
      "src_bytes                             383   \n",
      "dst_bytes                            3882   \n",
      "conn_state                             SF   \n",
      "missed_bytes                         1584   \n",
      "src_pkts                               12   \n",
      "src_ip_bytes                          911   \n",
      "dst_pkts                               10   \n",
      "dst_ip_bytes                         2710   \n",
      "http_method                           GET   \n",
      "http_uri                /no_nonce_string/   \n",
      "http_referrer                     missing   \n",
      "http_request_body_len                   0   \n",
      "http_response_body_len               1806   \n",
      "http_status_code                      200   \n",
      "http_user_agent                   DAFUPnP   \n",
      "http_orig_mime_types              missing   \n",
      "http_resp_mime_types      application/xml   \n",
      "label                                   0   \n",
      "type                               normal   \n",
      "\n",
      "                                                                 3  \\\n",
      "Unnamed: 0                                                       3   \n",
      "src_ip                                               192.168.1.195   \n",
      "src_port                                                     50062   \n",
      "dst_ip                                                 192.168.1.1   \n",
      "dst_port                                                     41952   \n",
      "proto                                                          tcp   \n",
      "duration                                                  0.057214   \n",
      "src_bytes                                                      226   \n",
      "dst_bytes                                                     3978   \n",
      "conn_state                                                      SF   \n",
      "missed_bytes                                                     0   \n",
      "src_pkts                                                         7   \n",
      "src_ip_bytes                                                   518   \n",
      "dst_pkts                                                         9   \n",
      "dst_ip_bytes                                                  4350   \n",
      "http_method                                                    GET   \n",
      "http_uri                /no_nonce_string/ContentDirectory/scpd.xml   \n",
      "http_referrer                                              missing   \n",
      "http_request_body_len                                            0   \n",
      "http_response_body_len                                        3602   \n",
      "http_status_code                                               200   \n",
      "http_user_agent                    Microsoft-Windows/10.0 UPnP/1.0   \n",
      "http_orig_mime_types                                       missing   \n",
      "http_resp_mime_types                               application/xml   \n",
      "label                                                            0   \n",
      "type                                                        normal   \n",
      "\n",
      "                                                                        4  \n",
      "Unnamed: 0                                                              4  \n",
      "src_ip                                                      192.168.1.195  \n",
      "src_port                                                            50118  \n",
      "dst_ip                                                      149.135.82.89  \n",
      "dst_port                                                               80  \n",
      "proto                                                                 tcp  \n",
      "duration                                                         0.082429  \n",
      "src_bytes                                                             357  \n",
      "dst_bytes                                                             808  \n",
      "conn_state                                                             SF  \n",
      "missed_bytes                                                            0  \n",
      "src_pkts                                                                5  \n",
      "src_ip_bytes                                                          569  \n",
      "dst_pkts                                                                4  \n",
      "dst_ip_bytes                                                          980  \n",
      "http_method                                                           GET  \n",
      "http_uri                /emdl/d/dod/ph/prod6/msdownload/update/softwar...  \n",
      "http_referrer                                                     missing  \n",
      "http_request_body_len                                                   0  \n",
      "http_response_body_len                                                502  \n",
      "http_status_code                                                      200  \n",
      "http_user_agent                      Microsoft-Delivery-Optimization/10.0  \n",
      "http_orig_mime_types                                              missing  \n",
      "http_resp_mime_types                                            text/json  \n",
      "label                                                                   0  \n",
      "type                                                               normal  \n"
     ]
    }
   ],
   "source": [
    "print(f\"Number of rows: {df.shape[0]}\")\n",
    "print(f\"Number of columns: {df.shape[1]}\")\n",
    "\n",
    "print(df.head().T)\n",
    "\n",
    "\n",
    "#print(\"\\nDataset infos:\") \n",
    "#print(df.info())"
   ]
  },
  {
   "cell_type": "markdown",
   "id": "69d88c54",
   "metadata": {},
   "source": [
    "### Missing values"
   ]
  },
  {
   "cell_type": "code",
   "execution_count": null,
   "id": "ee25a9be",
   "metadata": {},
   "outputs": [
    {
     "name": "stdout",
     "output_type": "stream",
     "text": [
      "\n",
      "Missing values per column (none for other columns):\n",
      "Unnamed: 0                      0\n",
      "src_ip                          0\n",
      "src_port                        0\n",
      "dst_ip                          0\n",
      "dst_port                        0\n",
      "proto                           0\n",
      "duration                        0\n",
      "src_bytes                       0\n",
      "dst_bytes                       0\n",
      "conn_state                      0\n",
      "missed_bytes                    0\n",
      "src_pkts                        0\n",
      "src_ip_bytes                    0\n",
      "dst_pkts                        0\n",
      "dst_ip_bytes                    0\n",
      "http_method               3416434\n",
      "http_uri                  3416434\n",
      "http_referrer             3440737\n",
      "http_request_body_len           0\n",
      "http_response_body_len          0\n",
      "http_status_code                0\n",
      "http_user_agent           3416440\n",
      "http_orig_mime_types      3439033\n",
      "http_resp_mime_types      3434524\n",
      "label                           0\n",
      "type                            0\n",
      "dtype: int64\n"
     ]
    }
   ],
   "source": [
    "print(\"\\nMissing values per column:\")\n",
    "print((df == 'missing').sum())"
   ]
  }
 ],
 "metadata": {
  "kernelspec": {
   "display_name": "venv",
   "language": "python",
   "name": "python3"
  },
  "language_info": {
   "codemirror_mode": {
    "name": "ipython",
    "version": 3
   },
   "file_extension": ".py",
   "mimetype": "text/x-python",
   "name": "python",
   "nbconvert_exporter": "python",
   "pygments_lexer": "ipython3",
   "version": "3.12.3"
  }
 },
 "nbformat": 4,
 "nbformat_minor": 5
}
