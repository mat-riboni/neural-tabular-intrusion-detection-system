{
 "cells": [
  {
   "cell_type": "markdown",
   "id": "167c48ed",
   "metadata": {},
   "source": [
    "# Multiclass classification on ToN http dataset using ft-transformer"
   ]
  },
  {
   "cell_type": "markdown",
   "id": "ae9dd664",
   "metadata": {},
   "source": [
    "### Imports"
   ]
  },
  {
   "cell_type": "code",
   "execution_count": null,
   "id": "c7220ff0",
   "metadata": {},
   "outputs": [],
   "source": [
    "import os, sys\n",
    "import numpy as np\n",
    "import pandas as pd\n",
    "import torch\n",
    "from sklearn.cluster import KMeans\n",
    "from sklearn.decomposition import PCA\n",
    "from sklearn.utils.class_weight import compute_class_weight\n",
    "from sklearn.metrics import (\n",
    "    accuracy_score,\n",
    "    balanced_accuracy_score,\n",
    "    classification_report,\n",
    "    confusion_matrix,\n",
    ")\n",
    "project_root = os.path.abspath(os.path.join(os.getcwd(), '..','..'))\n",
    "if project_root not in sys.path:\n",
    "    sys.path.append(project_root)\n",
    "\n",
    "\n",
    "from sklearn.model_selection import train_test_split\n",
    "from sklearn.preprocessing import LabelEncoder\n",
    "import matplotlib.pyplot as plt\n",
    "from src.utilities.config_manager import ConfigManager\n",
    "from src.utilities.io_handler import load_data\n",
    "\n",
    "\n",
    "from pytorch_tabular import TabularModel\n",
    "from pytorch_tabular.config import DataConfig, TrainerConfig, OptimizerConfig\n",
    "from pytorch_tabular.models import FTTransformerConfig\n",
    "from pytorch_tabular.feature_extractor import DeepFeatureExtractor"
   ]
  },
  {
   "cell_type": "markdown",
   "id": "56ddb768",
   "metadata": {},
   "source": [
    "### Config"
   ]
  },
  {
   "cell_type": "code",
   "execution_count": 6,
   "id": "267ba6b9",
   "metadata": {},
   "outputs": [],
   "source": [
    "DATASET_CONFIG_PATH = '../../config/ton_config.json'\n",
    "\n",
    "ConfigManager.load_config(DATASET_CONFIG_PATH)\n",
    "paths_config = ConfigManager.get_section(\"paths\")\n",
    "data_cols_config = ConfigManager.get_section(\"data_columns\")\n",
    "\n",
    "DATA_PATH = paths_config.get(\"dataset_path\")\n",
    "OUTPUT_DIR = paths_config.get(\"output_dir\")\n",
    "TARGET_COL = data_cols_config.get(\"target_category_column\")\n",
    "NUMERICAL_COLS = data_cols_config.get(\"numerical_cols\")\n",
    "CATEGORICAL_COLS = data_cols_config.get(\"categorical_cols\")\n",
    "RANDOM_STATE = 42    "
   ]
  },
  {
   "cell_type": "markdown",
   "id": "614446ec",
   "metadata": {},
   "source": [
    "### Dataset loading and splitting"
   ]
  },
  {
   "cell_type": "code",
   "execution_count": null,
   "id": "ca005471",
   "metadata": {},
   "outputs": [],
   "source": [
    "df = load_data(DATA_PATH)\n",
    "\n",
    "keep_cols = CATEGORICAL_COLS + NUMERICAL_COLS + [TARGET_COL]\n",
    "df = df[keep_cols].copy() \n",
    "\n",
    "train_df, temp_df = train_test_split(df, test_size=0.3, random_state=RANDOM_STATE, stratify=df[TARGET_COL])\n",
    "valid_df, test_df = train_test_split(temp_df, test_size=0.5, random_state=RANDOM_STATE, stratify=temp_df[TARGET_COL])   \n"
   ]
  },
  {
   "cell_type": "markdown",
   "id": "fabccdff",
   "metadata": {},
   "source": [
    "### Encoding target and class weights"
   ]
  },
  {
   "cell_type": "code",
   "execution_count": null,
   "id": "3fc18282",
   "metadata": {},
   "outputs": [],
   "source": [
    "y_le = LabelEncoder().fit(train_df[TARGET_COL])\n",
    "for _df in (train_df, valid_df, test_df):\n",
    "    _df[TARGET_COL] = y_le.transform(_df[TARGET_COL])\n",
    "\n",
    "classes = np.unique(train_df[TARGET_COL].values)\n",
    "cw = compute_class_weight('balanced', classes=classes, y=y)\n",
    "cw = cw / cw.mean()  \n",
    "cw = torch.tensor(cw, dtype=torch.float).to(\n",
    "        \"cuda\" if torch.cuda.is_available() else \"cpu\"\n",
    "    )"
   ]
  },
  {
   "cell_type": "markdown",
   "id": "c21fa52c",
   "metadata": {},
   "source": [
    "### Configuration blocks\n",
    "Thanks pythorch_tabular "
   ]
  },
  {
   "cell_type": "code",
   "execution_count": null,
   "id": "dfab50f1",
   "metadata": {},
   "outputs": [],
   "source": [
    "data_config = DataConfig(\n",
    "        target=[TARGET_COL],\n",
    "        continuous_cols=NUMERICAL_COLS,\n",
    "        categorical_cols=CATEGORICAL_COLS,\n",
    "        continuous_feature_transform=\"standardize\", \n",
    ")"
   ]
  },
  {
   "cell_type": "code",
   "execution_count": null,
   "id": "731d949e",
   "metadata": {},
   "outputs": [],
   "source": [
    "model_config = FTTransformerConfig(\n",
    "    task=\"classification\",\n",
    "    input_embed_dim=32,\n",
    "    num_heads=8,\n",
    "    num_attn_blocks=6,\n",
    "    learning_rate=1e-3,\n",
    "    metrics=[\"accuracy\", \"balanced_accuracy\"],\n",
    "    metrics_prob_input=[False, False],\n",
    "    seed=RANDOM_STATE,\n",
    ")"
   ]
  },
  {
   "cell_type": "code",
   "execution_count": null,
   "id": "ac3f1921",
   "metadata": {},
   "outputs": [],
   "source": [
    "optimizer_config = OptimizerConfig(\n",
    "    optimizer=\"Adam\",\n",
    "    learning_rate=1e-3,\n",
    ")"
   ]
  },
  {
   "cell_type": "code",
   "execution_count": null,
   "id": "c70e7a75",
   "metadata": {},
   "outputs": [],
   "source": [
    "trainer_config = TrainerConfig(\n",
    "    batch_size=2048,\n",
    "    max_epochs=100,\n",
    "    early_stopping=\"valid_loss\",\n",
    "    early_stopping_patience=20,\n",
    "    accelerator=\"gpu\" if torch.cuda.is_available() else \"cpu\",\n",
    "    devices=1,\n",
    "    deterministic=True,\n",
    "    callbacks=None,\n",
    "    precision=32,\n",
    ")"
   ]
  },
  {
   "cell_type": "markdown",
   "id": "05d44075",
   "metadata": {},
   "source": [
    "### Model instance"
   ]
  },
  {
   "cell_type": "code",
   "execution_count": null,
   "id": "cf86c75f",
   "metadata": {},
   "outputs": [],
   "source": [
    "ft_transformer_model = TabularModel(\n",
    "    data_config=data_config,\n",
    "    model_config=model_config,\n",
    "    optimizer_config=optimizer_config,\n",
    "    trainer_config=trainer_config,\n",
    ")"
   ]
  },
  {
   "cell_type": "markdown",
   "id": "f6d54971",
   "metadata": {},
   "source": [
    "### Training"
   ]
  },
  {
   "cell_type": "code",
   "execution_count": null,
   "id": "745e61fe",
   "metadata": {},
   "outputs": [],
   "source": [
    "ft_transformer_model.fit(train=train_df, validation=valid_df)"
   ]
  },
  {
   "cell_type": "markdown",
   "id": "2299bd3c",
   "metadata": {},
   "source": [
    "### Evaluation"
   ]
  },
  {
   "cell_type": "code",
   "execution_count": null,
   "id": "b018cbd7",
   "metadata": {},
   "outputs": [],
   "source": [
    "preds = ft_transformer_model.predict(test_df)\n",
    "y_true = test_df[TARGET_COL].values\n",
    "y_pred = preds[\"prediction\"].values.astype(int)\n",
    "\n",
    "acc = accuracy_score(y_true, y_pred)\n",
    "bal_acc = balanced_accuracy_score(y_true, y_pred)\n",
    "\n",
    "print(\"Test Accuracy: %.4f\", acc)\n",
    "print(\"Test Balanced Accuracy: %.4f\", bal_acc)\n",
    "print(\"Classification Report:\\n%s\", classification_report(y_true, y_pred))\n",
    "print(\"Confusion Matrix:\\n%s\", confusion_matrix(y_true, y_pred))"
   ]
  },
  {
   "cell_type": "markdown",
   "id": "b2dd9dd0",
   "metadata": {},
   "source": [
    "### Penultimate layer extraction "
   ]
  },
  {
   "cell_type": "code",
   "execution_count": null,
   "id": "c5ba249b",
   "metadata": {},
   "outputs": [],
   "source": [
    "dfe = DeepFeatureExtractor(ft_transformer_model, extract_keys=[\"backbone_features\"])\n",
    "emb_df = dfe.transform(test_df)\n",
    "feature_cols = [c for c in emb_df.columns if \"backbone_features\" in c]\n",
    "Z = emb_df[feature_cols].values"
   ]
  },
  {
   "cell_type": "markdown",
   "id": "955861ab",
   "metadata": {},
   "source": [
    "### Dimensionality reduction + clustering"
   ]
  },
  {
   "cell_type": "code",
   "execution_count": null,
   "id": "29e4cd4e",
   "metadata": {},
   "outputs": [],
   "source": [
    "Z_2d = PCA(n_components=2, random_state=RANDOM_STATE).fit_transform(Z)\n",
    "n_clusters = len(np.unique(y_true))\n",
    "labels = KMeans(n_clusters=n_clusters, random_state=RANDOM_STATE).fit_predict(Z_2d)\n"
   ]
  },
  {
   "cell_type": "markdown",
   "id": "65897364",
   "metadata": {},
   "source": [
    "### Plots"
   ]
  },
  {
   "cell_type": "code",
   "execution_count": null,
   "id": "ec31502c",
   "metadata": {},
   "outputs": [],
   "source": [
    "plt.figure(figsize=(10, 6))\n",
    "plt.scatter(Z_2d[:, 0], Z_2d[:, 1], c=labels, alpha=0.7, cmap=\"viridis\")\n",
    "plt.title(\"FT‑Transformer backbone features (2‑D PCA)\")\n",
    "plt.xlabel(\"PC1\")\n",
    "plt.ylabel(\"PC2\")\n",
    "plt.tight_layout()\n",
    "plt.show()"
   ]
  }
 ],
 "metadata": {
  "kernelspec": {
   "display_name": "venv",
   "language": "python",
   "name": "python3"
  },
  "language_info": {
   "codemirror_mode": {
    "name": "ipython",
    "version": 3
   },
   "file_extension": ".py",
   "mimetype": "text/x-python",
   "name": "python",
   "nbconvert_exporter": "python",
   "pygments_lexer": "ipython3",
   "version": "3.12.3"
  }
 },
 "nbformat": 4,
 "nbformat_minor": 5
}
