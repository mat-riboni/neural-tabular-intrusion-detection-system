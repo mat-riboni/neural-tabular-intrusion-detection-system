{
 "cells": [
  {
   "cell_type": "markdown",
   "id": "167c48ed",
   "metadata": {},
   "source": [
    "# Multiclass classification on ToN http dataset using ft-transformer"
   ]
  },
  {
   "cell_type": "markdown",
   "id": "ae9dd664",
   "metadata": {},
   "source": [
    "### Imports"
   ]
  },
  {
   "cell_type": "code",
   "execution_count": 9,
   "id": "c7220ff0",
   "metadata": {},
   "outputs": [],
   "source": [
    "import os, sys\n",
    "import numpy as np\n",
    "import pandas as pd\n",
    "import torch\n",
    "from sklearn.cluster import KMeans\n",
    "from sklearn.decomposition import PCA\n",
    "from sklearn.utils.class_weight import compute_class_weight\n",
    "from sklearn.metrics import (\n",
    "    accuracy_score,\n",
    "    balanced_accuracy_score,\n",
    "    classification_report,\n",
    "    confusion_matrix,\n",
    ")\n",
    "project_root = os.path.abspath(os.path.join(os.getcwd(), '..','..'))\n",
    "if project_root not in sys.path:\n",
    "    sys.path.append(project_root)\n",
    "\n",
    "\n",
    "from sklearn.model_selection import train_test_split\n",
    "from sklearn.preprocessing import LabelEncoder\n",
    "import matplotlib.pyplot as plt\n",
    "from src.utilities.config_manager import ConfigManager\n",
    "from src.utilities.io_handler import load_data\n",
    "\n",
    "\n",
    "from pytorch_tabular import TabularModel\n",
    "from pytorch_tabular.config import DataConfig, TrainerConfig, OptimizerConfig\n",
    "from pytorch_tabular.models import FTTransformerConfig\n",
    "from pytorch_tabular.feature_extractor import DeepFeatureExtractor"
   ]
  },
  {
   "cell_type": "markdown",
   "id": "56ddb768",
   "metadata": {},
   "source": [
    "### Config"
   ]
  },
  {
   "cell_type": "code",
   "execution_count": 10,
   "id": "267ba6b9",
   "metadata": {},
   "outputs": [],
   "source": [
    "DATASET_CONFIG_PATH = '../../config/ton_config.json'\n",
    "\n",
    "ConfigManager.load_config(DATASET_CONFIG_PATH)\n",
    "paths_config = ConfigManager.get_section(\"paths\")\n",
    "data_cols_config = ConfigManager.get_section(\"data_columns\")\n",
    "\n",
    "DATA_PATH = '../../resources/dataset/http_ton.csv'\n",
    "TARGET_COL = data_cols_config.get(\"target_category_column\")\n",
    "NUMERICAL_COLS = data_cols_config.get(\"numerical_cols\")\n",
    "CATEGORICAL_COLS = data_cols_config.get(\"categorical_cols\")\n",
    "RANDOM_STATE = 42    "
   ]
  },
  {
   "cell_type": "markdown",
   "id": "614446ec",
   "metadata": {},
   "source": [
    "### Dataset loading and splitting"
   ]
  },
  {
   "cell_type": "code",
   "execution_count": 11,
   "id": "ca005471",
   "metadata": {},
   "outputs": [],
   "source": [
    "df = load_data(DATA_PATH)\n",
    "\n",
    "keep_cols = CATEGORICAL_COLS + NUMERICAL_COLS + [TARGET_COL]\n",
    "df = df[keep_cols].copy() \n",
    "\n",
    "train_df, temp_df = train_test_split(df, test_size=0.3, random_state=RANDOM_STATE, stratify=df[TARGET_COL])\n",
    "valid_df, test_df = train_test_split(temp_df, test_size=0.5, random_state=RANDOM_STATE, stratify=temp_df[TARGET_COL])   \n"
   ]
  },
  {
   "cell_type": "markdown",
   "id": "fabccdff",
   "metadata": {},
   "source": [
    "### Encoding target and class weights"
   ]
  },
  {
   "cell_type": "code",
   "execution_count": 12,
   "id": "3fc18282",
   "metadata": {},
   "outputs": [],
   "source": [
    "y_le = LabelEncoder().fit(train_df[TARGET_COL])\n",
    "for _df in (train_df, valid_df, test_df):\n",
    "    _df[TARGET_COL] = y_le.transform(_df[TARGET_COL])\n",
    "\n",
    "classes = np.unique(train_df[TARGET_COL].values)\n",
    "cw = compute_class_weight('balanced', classes=classes, y=train_df[TARGET_COL])\n",
    "cw = cw / cw.mean()  \n",
    "cw = torch.tensor(cw, dtype=torch.float).to(\n",
    "        \"cuda\" if torch.cuda.is_available() else \"cpu\"\n",
    "    )"
   ]
  },
  {
   "cell_type": "markdown",
   "id": "c21fa52c",
   "metadata": {},
   "source": [
    "### Configuration blocks\n",
    "Thanks pythorch_tabular "
   ]
  },
  {
   "cell_type": "code",
   "execution_count": 14,
   "id": "dfab50f1",
   "metadata": {},
   "outputs": [],
   "source": [
    "data_config = DataConfig(\n",
    "        target=[TARGET_COL],\n",
    "        continuous_cols=NUMERICAL_COLS,\n",
    "        categorical_cols=CATEGORICAL_COLS,\n",
    ")"
   ]
  },
  {
   "cell_type": "code",
   "execution_count": null,
   "id": "731d949e",
   "metadata": {},
   "outputs": [],
   "source": [
    "model_config = FTTransformerConfig(\n",
    "    task=\"classification\",\n",
    "    input_embed_dim=32,\n",
    "    num_heads=8,\n",
    "    num_attn_blocks=6,\n",
    "    learning_rate=1e-3,\n",
    "    metrics_prob_input=[False, False],\n",
    "    seed=RANDOM_STATE,\n",
    ")"
   ]
  },
  {
   "cell_type": "code",
   "execution_count": 17,
   "id": "ac3f1921",
   "metadata": {},
   "outputs": [],
   "source": [
    "optimizer_config = OptimizerConfig(\n",
    "    optimizer=\"Adam\",\n",
    ")"
   ]
  },
  {
   "cell_type": "code",
   "execution_count": 19,
   "id": "c70e7a75",
   "metadata": {},
   "outputs": [],
   "source": [
    "trainer_config = TrainerConfig(\n",
    "    batch_size=2048,\n",
    "    max_epochs=100,\n",
    "    early_stopping=\"valid_loss\",\n",
    "    early_stopping_patience=20,\n",
    "    accelerator=\"gpu\" if torch.cuda.is_available() else \"cpu\",\n",
    "    devices=1,\n",
    "    deterministic=True,\n",
    "    precision=32,\n",
    ")"
   ]
  },
  {
   "cell_type": "markdown",
   "id": "05d44075",
   "metadata": {},
   "source": [
    "### Model instance"
   ]
  },
  {
   "cell_type": "code",
   "execution_count": 20,
   "id": "cf86c75f",
   "metadata": {},
   "outputs": [
    {
     "data": {
      "text/html": [
       "<pre style=\"white-space:pre;overflow-x:auto;line-height:normal;font-family:Menlo,'DejaVu Sans Mono',consolas,'Courier New',monospace\"><span style=\"color: #008080; text-decoration-color: #008080; font-weight: bold\">2025</span>-<span style=\"color: #008080; text-decoration-color: #008080; font-weight: bold\">07</span>-<span style=\"color: #008080; text-decoration-color: #008080; font-weight: bold\">13</span> <span style=\"color: #00ff00; text-decoration-color: #00ff00; font-weight: bold\">16:44:59</span>,<span style=\"color: #008080; text-decoration-color: #008080; font-weight: bold\">547</span> - <span style=\"font-weight: bold\">{</span>pytorch_tabular.tabular_model:<span style=\"color: #008080; text-decoration-color: #008080; font-weight: bold\">146</span><span style=\"font-weight: bold\">}</span> - INFO - Experiment Tracking is turned off           \n",
       "</pre>\n"
      ],
      "text/plain": [
       "\u001b[1;36m2025\u001b[0m-\u001b[1;36m07\u001b[0m-\u001b[1;36m13\u001b[0m \u001b[1;92m16:44:59\u001b[0m,\u001b[1;36m547\u001b[0m - \u001b[1m{\u001b[0mpytorch_tabular.tabular_model:\u001b[1;36m146\u001b[0m\u001b[1m}\u001b[0m - INFO - Experiment Tracking is turned off           \n"
      ]
     },
     "metadata": {},
     "output_type": "display_data"
    }
   ],
   "source": [
    "ft_transformer_model = TabularModel(\n",
    "    data_config=data_config,\n",
    "    model_config=model_config,\n",
    "    optimizer_config=optimizer_config,\n",
    "    trainer_config=trainer_config,\n",
    ")"
   ]
  },
  {
   "cell_type": "markdown",
   "id": "f6d54971",
   "metadata": {},
   "source": [
    "### Training"
   ]
  },
  {
   "cell_type": "code",
   "execution_count": 21,
   "id": "745e61fe",
   "metadata": {},
   "outputs": [
    {
     "name": "stderr",
     "output_type": "stream",
     "text": [
      "Seed set to 42\n"
     ]
    },
    {
     "data": {
      "text/html": [
       "<pre style=\"white-space:pre;overflow-x:auto;line-height:normal;font-family:Menlo,'DejaVu Sans Mono',consolas,'Courier New',monospace\"><span style=\"color: #008080; text-decoration-color: #008080; font-weight: bold\">2025</span>-<span style=\"color: #008080; text-decoration-color: #008080; font-weight: bold\">07</span>-<span style=\"color: #008080; text-decoration-color: #008080; font-weight: bold\">13</span> <span style=\"color: #00ff00; text-decoration-color: #00ff00; font-weight: bold\">16:45:06</span>,<span style=\"color: #008080; text-decoration-color: #008080; font-weight: bold\">811</span> - <span style=\"font-weight: bold\">{</span>pytorch_tabular.tabular_model:<span style=\"color: #008080; text-decoration-color: #008080; font-weight: bold\">548</span><span style=\"font-weight: bold\">}</span> - INFO - Preparing the DataLoaders                   \n",
       "</pre>\n"
      ],
      "text/plain": [
       "\u001b[1;36m2025\u001b[0m-\u001b[1;36m07\u001b[0m-\u001b[1;36m13\u001b[0m \u001b[1;92m16:45:06\u001b[0m,\u001b[1;36m811\u001b[0m - \u001b[1m{\u001b[0mpytorch_tabular.tabular_model:\u001b[1;36m548\u001b[0m\u001b[1m}\u001b[0m - INFO - Preparing the DataLoaders                   \n"
      ]
     },
     "metadata": {},
     "output_type": "display_data"
    },
    {
     "data": {
      "text/html": [
       "<pre style=\"white-space:pre;overflow-x:auto;line-height:normal;font-family:Menlo,'DejaVu Sans Mono',consolas,'Courier New',monospace\"><span style=\"color: #008080; text-decoration-color: #008080; font-weight: bold\">2025</span>-<span style=\"color: #008080; text-decoration-color: #008080; font-weight: bold\">07</span>-<span style=\"color: #008080; text-decoration-color: #008080; font-weight: bold\">13</span> <span style=\"color: #00ff00; text-decoration-color: #00ff00; font-weight: bold\">16:45:08</span>,<span style=\"color: #008080; text-decoration-color: #008080; font-weight: bold\">105</span> - <span style=\"font-weight: bold\">{</span>pytorch_tabular.tabular_datamodul<span style=\"color: #00ff00; text-decoration-color: #00ff00; font-weight: bold\">e:522</span><span style=\"font-weight: bold\">}</span> - INFO - Setting up the datamodule for          \n",
       "classification task                                                                                                \n",
       "</pre>\n"
      ],
      "text/plain": [
       "\u001b[1;36m2025\u001b[0m-\u001b[1;36m07\u001b[0m-\u001b[1;36m13\u001b[0m \u001b[1;92m16:45:08\u001b[0m,\u001b[1;36m105\u001b[0m - \u001b[1m{\u001b[0mpytorch_tabular.tabular_datamodul\u001b[1;92me:522\u001b[0m\u001b[1m}\u001b[0m - INFO - Setting up the datamodule for          \n",
       "classification task                                                                                                \n"
      ]
     },
     "metadata": {},
     "output_type": "display_data"
    },
    {
     "name": "stderr",
     "output_type": "stream",
     "text": [
      "/home/mat/tesi_triennale/neural-tabular-intrusion-detection-system/venv/lib/python3.12/site-packages/pytorch_tabular/categorical_encoders.py:71: FutureWarning: A value is trying to be set on a copy of a DataFrame or Series through chained assignment using an inplace method.\n",
      "The behavior will change in pandas 3.0. This inplace method will never work because the intermediate object on which we are setting values always behaves as a copy.\n",
      "\n",
      "For example, when doing 'df[col].method(value, inplace=True)', try using 'df.method({col: value}, inplace=True)' or df[col] = df[col].method(value) instead, to perform the operation inplace on the original object.\n",
      "\n",
      "\n",
      "  X_encoded[col].fillna(self._imputed, inplace=True)\n",
      "/home/mat/tesi_triennale/neural-tabular-intrusion-detection-system/venv/lib/python3.12/site-packages/pytorch_tabular/categorical_encoders.py:71: FutureWarning: A value is trying to be set on a copy of a DataFrame or Series through chained assignment using an inplace method.\n",
      "The behavior will change in pandas 3.0. This inplace method will never work because the intermediate object on which we are setting values always behaves as a copy.\n",
      "\n",
      "For example, when doing 'df[col].method(value, inplace=True)', try using 'df.method({col: value}, inplace=True)' or df[col] = df[col].method(value) instead, to perform the operation inplace on the original object.\n",
      "\n",
      "\n",
      "  X_encoded[col].fillna(self._imputed, inplace=True)\n",
      "/home/mat/tesi_triennale/neural-tabular-intrusion-detection-system/venv/lib/python3.12/site-packages/pytorch_tabular/categorical_encoders.py:71: FutureWarning: A value is trying to be set on a copy of a DataFrame or Series through chained assignment using an inplace method.\n",
      "The behavior will change in pandas 3.0. This inplace method will never work because the intermediate object on which we are setting values always behaves as a copy.\n",
      "\n",
      "For example, when doing 'df[col].method(value, inplace=True)', try using 'df.method({col: value}, inplace=True)' or df[col] = df[col].method(value) instead, to perform the operation inplace on the original object.\n",
      "\n",
      "\n",
      "  X_encoded[col].fillna(self._imputed, inplace=True)\n",
      "/home/mat/tesi_triennale/neural-tabular-intrusion-detection-system/venv/lib/python3.12/site-packages/pytorch_tabular/tabular_datamodule.py:386: FutureWarning: Setting an item of incompatible dtype is deprecated and will raise in a future error of pandas. Value '[-0.00460829 -0.00467513 -0.00424987 ... -0.00439814 -0.00438942\n",
      " -0.00234995]' has dtype incompatible with int64, please explicitly cast to a compatible dtype first.\n",
      "  data.loc[:, self.config.continuous_cols] = self.scaler.fit_transform(\n",
      "/home/mat/tesi_triennale/neural-tabular-intrusion-detection-system/venv/lib/python3.12/site-packages/pytorch_tabular/tabular_datamodule.py:386: FutureWarning: Setting an item of incompatible dtype is deprecated and will raise in a future error of pandas. Value '[-0.00163089 -0.00163089 -0.00163089 ... -0.00163089 -0.00163089\n",
      " -0.00163089]' has dtype incompatible with int64, please explicitly cast to a compatible dtype first.\n",
      "  data.loc[:, self.config.continuous_cols] = self.scaler.fit_transform(\n",
      "/home/mat/tesi_triennale/neural-tabular-intrusion-detection-system/venv/lib/python3.12/site-packages/pytorch_tabular/tabular_datamodule.py:386: FutureWarning: Setting an item of incompatible dtype is deprecated and will raise in a future error of pandas. Value '[-0.00337443 -0.0035144  -0.00351344 ... -0.00348073 -0.00355385\n",
      " -0.00349565]' has dtype incompatible with int64, please explicitly cast to a compatible dtype first.\n",
      "  data.loc[:, self.config.continuous_cols] = self.scaler.fit_transform(\n",
      "/home/mat/tesi_triennale/neural-tabular-intrusion-detection-system/venv/lib/python3.12/site-packages/pytorch_tabular/tabular_datamodule.py:386: FutureWarning: Setting an item of incompatible dtype is deprecated and will raise in a future error of pandas. Value '[-0.09477352 -0.17041713 -0.18341431 ... -0.18861318 -0.19693138\n",
      " -0.17795549]' has dtype incompatible with int64, please explicitly cast to a compatible dtype first.\n",
      "  data.loc[:, self.config.continuous_cols] = self.scaler.fit_transform(\n",
      "/home/mat/tesi_triennale/neural-tabular-intrusion-detection-system/venv/lib/python3.12/site-packages/pytorch_tabular/tabular_datamodule.py:386: FutureWarning: Setting an item of incompatible dtype is deprecated and will raise in a future error of pandas. Value '[-0.00330523 -0.00330523 -0.01557079 ... -0.02783635  0.00896033\n",
      " -0.00330523]' has dtype incompatible with int64, please explicitly cast to a compatible dtype first.\n",
      "  data.loc[:, self.config.continuous_cols] = self.scaler.fit_transform(\n",
      "/home/mat/tesi_triennale/neural-tabular-intrusion-detection-system/venv/lib/python3.12/site-packages/pytorch_tabular/tabular_datamodule.py:386: FutureWarning: Setting an item of incompatible dtype is deprecated and will raise in a future error of pandas. Value '[-0.00678458 -0.00678458  0.00175487 ... -0.0039381  -0.00109161\n",
      "  0.02168025]' has dtype incompatible with int64, please explicitly cast to a compatible dtype first.\n",
      "  data.loc[:, self.config.continuous_cols] = self.scaler.fit_transform(\n",
      "/home/mat/tesi_triennale/neural-tabular-intrusion-detection-system/venv/lib/python3.12/site-packages/pytorch_tabular/tabular_datamodule.py:386: FutureWarning: Setting an item of incompatible dtype is deprecated and will raise in a future error of pandas. Value '[-0.00937039 -0.011846    0.00477118 ... -0.00160977 -0.00106458\n",
      "  0.07624676]' has dtype incompatible with int64, please explicitly cast to a compatible dtype first.\n",
      "  data.loc[:, self.config.continuous_cols] = self.scaler.fit_transform(\n",
      "/home/mat/tesi_triennale/neural-tabular-intrusion-detection-system/venv/lib/python3.12/site-packages/pytorch_tabular/tabular_datamodule.py:386: FutureWarning: Setting an item of incompatible dtype is deprecated and will raise in a future error of pandas. Value '[-0.00995407 -0.00995407 -0.00995407 ... -0.00995407 -0.00995407\n",
      " -0.00995407]' has dtype incompatible with int64, please explicitly cast to a compatible dtype first.\n",
      "  data.loc[:, self.config.continuous_cols] = self.scaler.fit_transform(\n",
      "/home/mat/tesi_triennale/neural-tabular-intrusion-detection-system/venv/lib/python3.12/site-packages/pytorch_tabular/tabular_datamodule.py:386: FutureWarning: Setting an item of incompatible dtype is deprecated and will raise in a future error of pandas. Value '[-0.00150861 -0.00150861 -0.00150861 ... -0.00150861 -0.00150861\n",
      " -0.00150861]' has dtype incompatible with int64, please explicitly cast to a compatible dtype first.\n",
      "  data.loc[:, self.config.continuous_cols] = self.scaler.fit_transform(\n",
      "/home/mat/tesi_triennale/neural-tabular-intrusion-detection-system/venv/lib/python3.12/site-packages/pytorch_tabular/categorical_encoders.py:71: FutureWarning: A value is trying to be set on a copy of a DataFrame or Series through chained assignment using an inplace method.\n",
      "The behavior will change in pandas 3.0. This inplace method will never work because the intermediate object on which we are setting values always behaves as a copy.\n",
      "\n",
      "For example, when doing 'df[col].method(value, inplace=True)', try using 'df.method({col: value}, inplace=True)' or df[col] = df[col].method(value) instead, to perform the operation inplace on the original object.\n",
      "\n",
      "\n",
      "  X_encoded[col].fillna(self._imputed, inplace=True)\n",
      "/home/mat/tesi_triennale/neural-tabular-intrusion-detection-system/venv/lib/python3.12/site-packages/pytorch_tabular/categorical_encoders.py:71: FutureWarning: A value is trying to be set on a copy of a DataFrame or Series through chained assignment using an inplace method.\n",
      "The behavior will change in pandas 3.0. This inplace method will never work because the intermediate object on which we are setting values always behaves as a copy.\n",
      "\n",
      "For example, when doing 'df[col].method(value, inplace=True)', try using 'df.method({col: value}, inplace=True)' or df[col] = df[col].method(value) instead, to perform the operation inplace on the original object.\n",
      "\n",
      "\n",
      "  X_encoded[col].fillna(self._imputed, inplace=True)\n",
      "/home/mat/tesi_triennale/neural-tabular-intrusion-detection-system/venv/lib/python3.12/site-packages/pytorch_tabular/categorical_encoders.py:71: FutureWarning: A value is trying to be set on a copy of a DataFrame or Series through chained assignment using an inplace method.\n",
      "The behavior will change in pandas 3.0. This inplace method will never work because the intermediate object on which we are setting values always behaves as a copy.\n",
      "\n",
      "For example, when doing 'df[col].method(value, inplace=True)', try using 'df.method({col: value}, inplace=True)' or df[col] = df[col].method(value) instead, to perform the operation inplace on the original object.\n",
      "\n",
      "\n",
      "  X_encoded[col].fillna(self._imputed, inplace=True)\n",
      "/home/mat/tesi_triennale/neural-tabular-intrusion-detection-system/venv/lib/python3.12/site-packages/pytorch_tabular/tabular_datamodule.py:390: FutureWarning: Setting an item of incompatible dtype is deprecated and will raise in a future error of pandas. Value '[-0.00462106 -0.00466552 -0.0045443  ... -0.00460964 -0.00461204\n",
      " -0.00449863]' has dtype incompatible with int64, please explicitly cast to a compatible dtype first.\n",
      "  data.loc[:, self.config.continuous_cols] = self.scaler.transform(data.loc[:, self.config.continuous_cols])\n",
      "/home/mat/tesi_triennale/neural-tabular-intrusion-detection-system/venv/lib/python3.12/site-packages/pytorch_tabular/tabular_datamodule.py:390: FutureWarning: Setting an item of incompatible dtype is deprecated and will raise in a future error of pandas. Value '[-0.00163089 -0.00163089 -0.00163089 ... -0.00163089 -0.00163089\n",
      " -0.00163089]' has dtype incompatible with int64, please explicitly cast to a compatible dtype first.\n",
      "  data.loc[:, self.config.continuous_cols] = self.scaler.transform(data.loc[:, self.config.continuous_cols])\n",
      "/home/mat/tesi_triennale/neural-tabular-intrusion-detection-system/venv/lib/python3.12/site-packages/pytorch_tabular/tabular_datamodule.py:390: FutureWarning: Setting an item of incompatible dtype is deprecated and will raise in a future error of pandas. Value '[-0.00346534 -0.00349324 -0.00352451 ... -0.00352162 -0.00342398\n",
      " -0.00338838]' has dtype incompatible with int64, please explicitly cast to a compatible dtype first.\n",
      "  data.loc[:, self.config.continuous_cols] = self.scaler.transform(data.loc[:, self.config.continuous_cols])\n",
      "/home/mat/tesi_triennale/neural-tabular-intrusion-detection-system/venv/lib/python3.12/site-packages/pytorch_tabular/tabular_datamodule.py:390: FutureWarning: Setting an item of incompatible dtype is deprecated and will raise in a future error of pandas. Value '[-0.15949949 -0.15897961 -0.20187031 ... -0.18783335 -0.12154772\n",
      " -0.11790851]' has dtype incompatible with int64, please explicitly cast to a compatible dtype first.\n",
      "  data.loc[:, self.config.continuous_cols] = self.scaler.transform(data.loc[:, self.config.continuous_cols])\n",
      "/home/mat/tesi_triennale/neural-tabular-intrusion-detection-system/venv/lib/python3.12/site-packages/pytorch_tabular/tabular_datamodule.py:390: FutureWarning: Setting an item of incompatible dtype is deprecated and will raise in a future error of pandas. Value '[-0.00330523 -0.00330523 -0.01557079 ... -0.01557079 -0.00330523\n",
      " -0.00330523]' has dtype incompatible with int64, please explicitly cast to a compatible dtype first.\n",
      "  data.loc[:, self.config.continuous_cols] = self.scaler.transform(data.loc[:, self.config.continuous_cols])\n",
      "/home/mat/tesi_triennale/neural-tabular-intrusion-detection-system/venv/lib/python3.12/site-packages/pytorch_tabular/tabular_datamodule.py:390: FutureWarning: Setting an item of incompatible dtype is deprecated and will raise in a future error of pandas. Value '[-0.0039381  -0.00678458 -0.00678458 ... -0.0039381  -0.00678458\n",
      " -0.0039381 ]' has dtype incompatible with int64, please explicitly cast to a compatible dtype first.\n",
      "  data.loc[:, self.config.continuous_cols] = self.scaler.transform(data.loc[:, self.config.continuous_cols])\n",
      "/home/mat/tesi_triennale/neural-tabular-intrusion-detection-system/venv/lib/python3.12/site-packages/pytorch_tabular/tabular_datamodule.py:390: FutureWarning: Setting an item of incompatible dtype is deprecated and will raise in a future error of pandas. Value '[-0.00986551 -0.01148995 -0.00724526 ... -0.00913117 -0.00950947\n",
      " -0.00533153]' has dtype incompatible with int64, please explicitly cast to a compatible dtype first.\n",
      "  data.loc[:, self.config.continuous_cols] = self.scaler.transform(data.loc[:, self.config.continuous_cols])\n",
      "/home/mat/tesi_triennale/neural-tabular-intrusion-detection-system/venv/lib/python3.12/site-packages/pytorch_tabular/tabular_datamodule.py:390: FutureWarning: Setting an item of incompatible dtype is deprecated and will raise in a future error of pandas. Value '[-0.00995407 -0.00995407 -0.00995407 ... -0.00995407 -0.00995407\n",
      " -0.00995407]' has dtype incompatible with int64, please explicitly cast to a compatible dtype first.\n",
      "  data.loc[:, self.config.continuous_cols] = self.scaler.transform(data.loc[:, self.config.continuous_cols])\n",
      "/home/mat/tesi_triennale/neural-tabular-intrusion-detection-system/venv/lib/python3.12/site-packages/pytorch_tabular/tabular_datamodule.py:390: FutureWarning: Setting an item of incompatible dtype is deprecated and will raise in a future error of pandas. Value '[-0.00150861 -0.00150861 -0.00150861 ... -0.00150861 -0.00150861\n",
      " -0.00150861]' has dtype incompatible with int64, please explicitly cast to a compatible dtype first.\n",
      "  data.loc[:, self.config.continuous_cols] = self.scaler.transform(data.loc[:, self.config.continuous_cols])\n"
     ]
    },
    {
     "data": {
      "text/html": [
       "<pre style=\"white-space:pre;overflow-x:auto;line-height:normal;font-family:Menlo,'DejaVu Sans Mono',consolas,'Courier New',monospace\"><span style=\"color: #008080; text-decoration-color: #008080; font-weight: bold\">2025</span>-<span style=\"color: #008080; text-decoration-color: #008080; font-weight: bold\">07</span>-<span style=\"color: #008080; text-decoration-color: #008080; font-weight: bold\">13</span> <span style=\"color: #00ff00; text-decoration-color: #00ff00; font-weight: bold\">16:45:12</span>,<span style=\"color: #008080; text-decoration-color: #008080; font-weight: bold\">315</span> - <span style=\"font-weight: bold\">{</span>pytorch_tabular.tabular_model:<span style=\"color: #008080; text-decoration-color: #008080; font-weight: bold\">599</span><span style=\"font-weight: bold\">}</span> - INFO - Preparing the Model: FTTransformerModel     \n",
       "</pre>\n"
      ],
      "text/plain": [
       "\u001b[1;36m2025\u001b[0m-\u001b[1;36m07\u001b[0m-\u001b[1;36m13\u001b[0m \u001b[1;92m16:45:12\u001b[0m,\u001b[1;36m315\u001b[0m - \u001b[1m{\u001b[0mpytorch_tabular.tabular_model:\u001b[1;36m599\u001b[0m\u001b[1m}\u001b[0m - INFO - Preparing the Model: FTTransformerModel     \n"
      ]
     },
     "metadata": {},
     "output_type": "display_data"
    },
    {
     "data": {
      "text/html": [
       "<pre style=\"white-space:pre;overflow-x:auto;line-height:normal;font-family:Menlo,'DejaVu Sans Mono',consolas,'Courier New',monospace\"><span style=\"color: #008080; text-decoration-color: #008080; font-weight: bold\">2025</span>-<span style=\"color: #008080; text-decoration-color: #008080; font-weight: bold\">07</span>-<span style=\"color: #008080; text-decoration-color: #008080; font-weight: bold\">13</span> <span style=\"color: #00ff00; text-decoration-color: #00ff00; font-weight: bold\">16:45:13</span>,<span style=\"color: #008080; text-decoration-color: #008080; font-weight: bold\">307</span> - <span style=\"font-weight: bold\">{</span>pytorch_tabular.models.base_model:<span style=\"color: #008080; text-decoration-color: #008080; font-weight: bold\">240</span><span style=\"font-weight: bold\">}</span> - ERROR - balanced_accuracy is not a valid       \n",
       "functional metric defined in the torchmetrics.functional module                                                    \n",
       "</pre>\n"
      ],
      "text/plain": [
       "\u001b[1;36m2025\u001b[0m-\u001b[1;36m07\u001b[0m-\u001b[1;36m13\u001b[0m \u001b[1;92m16:45:13\u001b[0m,\u001b[1;36m307\u001b[0m - \u001b[1m{\u001b[0mpytorch_tabular.models.base_model:\u001b[1;36m240\u001b[0m\u001b[1m}\u001b[0m - ERROR - balanced_accuracy is not a valid       \n",
       "functional metric defined in the torchmetrics.functional module                                                    \n"
      ]
     },
     "metadata": {},
     "output_type": "display_data"
    },
    {
     "ename": "AttributeError",
     "evalue": "module 'torchmetrics.functional' has no attribute 'balanced_accuracy'",
     "output_type": "error",
     "traceback": [
      "\u001b[31m---------------------------------------------------------------------------\u001b[39m",
      "\u001b[31mAttributeError\u001b[39m                            Traceback (most recent call last)",
      "\u001b[36mCell\u001b[39m\u001b[36m \u001b[39m\u001b[32mIn[21]\u001b[39m\u001b[32m, line 1\u001b[39m\n\u001b[32m----> \u001b[39m\u001b[32m1\u001b[39m \u001b[43mft_transformer_model\u001b[49m\u001b[43m.\u001b[49m\u001b[43mfit\u001b[49m\u001b[43m(\u001b[49m\u001b[43mtrain\u001b[49m\u001b[43m=\u001b[49m\u001b[43mtrain_df\u001b[49m\u001b[43m,\u001b[49m\u001b[43m \u001b[49m\u001b[43mvalidation\u001b[49m\u001b[43m=\u001b[49m\u001b[43mvalid_df\u001b[49m\u001b[43m)\u001b[49m\n",
      "\u001b[36mFile \u001b[39m\u001b[32m~/tesi_triennale/neural-tabular-intrusion-detection-system/venv/lib/python3.12/site-packages/pytorch_tabular/tabular_model.py:797\u001b[39m, in \u001b[36mTabularModel.fit\u001b[39m\u001b[34m(self, train, validation, loss, metrics, metrics_prob_inputs, optimizer, optimizer_params, train_sampler, target_transform, max_epochs, min_epochs, seed, callbacks, datamodule, cache_data, handle_oom)\u001b[39m\n\u001b[32m    791\u001b[39m     \u001b[38;5;28;01mif\u001b[39;00m train \u001b[38;5;129;01mis\u001b[39;00m \u001b[38;5;129;01mnot\u001b[39;00m \u001b[38;5;28;01mNone\u001b[39;00m:\n\u001b[32m    792\u001b[39m         warnings.warn(\n\u001b[32m    793\u001b[39m             \u001b[33m\"\u001b[39m\u001b[33mtrain data and datamodule is provided.\u001b[39m\u001b[33m\"\u001b[39m\n\u001b[32m    794\u001b[39m             \u001b[33m\"\u001b[39m\u001b[33m Ignoring the train data and using the datamodule.\u001b[39m\u001b[33m\"\u001b[39m\n\u001b[32m    795\u001b[39m             \u001b[33m\"\u001b[39m\u001b[33m Set either one of them to None to avoid this warning.\u001b[39m\u001b[33m\"\u001b[39m\n\u001b[32m    796\u001b[39m         )\n\u001b[32m--> \u001b[39m\u001b[32m797\u001b[39m model = \u001b[38;5;28;43mself\u001b[39;49m\u001b[43m.\u001b[49m\u001b[43mprepare_model\u001b[49m\u001b[43m(\u001b[49m\n\u001b[32m    798\u001b[39m \u001b[43m    \u001b[49m\u001b[43mdatamodule\u001b[49m\u001b[43m,\u001b[49m\n\u001b[32m    799\u001b[39m \u001b[43m    \u001b[49m\u001b[43mloss\u001b[49m\u001b[43m,\u001b[49m\n\u001b[32m    800\u001b[39m \u001b[43m    \u001b[49m\u001b[43mmetrics\u001b[49m\u001b[43m,\u001b[49m\n\u001b[32m    801\u001b[39m \u001b[43m    \u001b[49m\u001b[43mmetrics_prob_inputs\u001b[49m\u001b[43m,\u001b[49m\n\u001b[32m    802\u001b[39m \u001b[43m    \u001b[49m\u001b[43moptimizer\u001b[49m\u001b[43m,\u001b[49m\n\u001b[32m    803\u001b[39m \u001b[43m    \u001b[49m\u001b[43moptimizer_params\u001b[49m\u001b[43m \u001b[49m\u001b[38;5;129;43;01mor\u001b[39;49;00m\u001b[43m \u001b[49m\u001b[43m{\u001b[49m\u001b[43m}\u001b[49m\u001b[43m,\u001b[49m\n\u001b[32m    804\u001b[39m \u001b[43m\u001b[49m\u001b[43m)\u001b[49m\n\u001b[32m    806\u001b[39m \u001b[38;5;28;01mreturn\u001b[39;00m \u001b[38;5;28mself\u001b[39m.train(model, datamodule, callbacks, max_epochs, min_epochs, handle_oom)\n",
      "\u001b[36mFile \u001b[39m\u001b[32m~/tesi_triennale/neural-tabular-intrusion-detection-system/venv/lib/python3.12/site-packages/pytorch_tabular/tabular_model.py:602\u001b[39m, in \u001b[36mTabularModel.prepare_model\u001b[39m\u001b[34m(self, datamodule, loss, metrics, metrics_prob_inputs, optimizer, optimizer_params)\u001b[39m\n\u001b[32m    600\u001b[39m \u001b[38;5;66;03m# Fetching the config as some data specific configs have been added in the datamodule\u001b[39;00m\n\u001b[32m    601\u001b[39m \u001b[38;5;28mself\u001b[39m.inferred_config = \u001b[38;5;28mself\u001b[39m._read_parse_config(datamodule.update_config(\u001b[38;5;28mself\u001b[39m.config), InferredConfig)\n\u001b[32m--> \u001b[39m\u001b[32m602\u001b[39m model = \u001b[38;5;28;43mself\u001b[39;49m\u001b[43m.\u001b[49m\u001b[43mmodel_callable\u001b[49m\u001b[43m(\u001b[49m\n\u001b[32m    603\u001b[39m \u001b[43m    \u001b[49m\u001b[38;5;28;43mself\u001b[39;49m\u001b[43m.\u001b[49m\u001b[43mconfig\u001b[49m\u001b[43m,\u001b[49m\n\u001b[32m    604\u001b[39m \u001b[43m    \u001b[49m\u001b[43mcustom_loss\u001b[49m\u001b[43m=\u001b[49m\u001b[43mloss\u001b[49m\u001b[43m,\u001b[49m\u001b[43m  \u001b[49m\u001b[38;5;66;43;03m# Unused in SSL tasks\u001b[39;49;00m\n\u001b[32m    605\u001b[39m \u001b[43m    \u001b[49m\u001b[43mcustom_metrics\u001b[49m\u001b[43m=\u001b[49m\u001b[43mmetrics\u001b[49m\u001b[43m,\u001b[49m\u001b[43m  \u001b[49m\u001b[38;5;66;43;03m# Unused in SSL tasks\u001b[39;49;00m\n\u001b[32m    606\u001b[39m \u001b[43m    \u001b[49m\u001b[43mcustom_metrics_prob_inputs\u001b[49m\u001b[43m=\u001b[49m\u001b[43mmetrics_prob_inputs\u001b[49m\u001b[43m,\u001b[49m\u001b[43m  \u001b[49m\u001b[38;5;66;43;03m# Unused in SSL tasks\u001b[39;49;00m\n\u001b[32m    607\u001b[39m \u001b[43m    \u001b[49m\u001b[43mcustom_optimizer\u001b[49m\u001b[43m=\u001b[49m\u001b[43moptimizer\u001b[49m\u001b[43m,\u001b[49m\n\u001b[32m    608\u001b[39m \u001b[43m    \u001b[49m\u001b[43mcustom_optimizer_params\u001b[49m\u001b[43m=\u001b[49m\u001b[43moptimizer_params\u001b[49m\u001b[43m \u001b[49m\u001b[38;5;129;43;01mor\u001b[39;49;00m\u001b[43m \u001b[49m\u001b[43m{\u001b[49m\u001b[43m}\u001b[49m\u001b[43m,\u001b[49m\n\u001b[32m    609\u001b[39m \u001b[43m    \u001b[49m\u001b[43minferred_config\u001b[49m\u001b[43m=\u001b[49m\u001b[38;5;28;43mself\u001b[39;49m\u001b[43m.\u001b[49m\u001b[43minferred_config\u001b[49m\u001b[43m,\u001b[49m\n\u001b[32m    610\u001b[39m \u001b[43m\u001b[49m\u001b[43m)\u001b[49m\n\u001b[32m    611\u001b[39m \u001b[38;5;66;03m# Data Aware Initialization(for the models that need it)\u001b[39;00m\n\u001b[32m    612\u001b[39m model.data_aware_initialization(datamodule)\n",
      "\u001b[36mFile \u001b[39m\u001b[32m~/tesi_triennale/neural-tabular-intrusion-detection-system/venv/lib/python3.12/site-packages/pytorch_tabular/models/ft_transformer/ft_transformer.py:100\u001b[39m, in \u001b[36mFTTransformerModel.__init__\u001b[39m\u001b[34m(self, config, **kwargs)\u001b[39m\n\u001b[32m     99\u001b[39m \u001b[38;5;28;01mdef\u001b[39;00m\u001b[38;5;250m \u001b[39m\u001b[34m__init__\u001b[39m(\u001b[38;5;28mself\u001b[39m, config: DictConfig, **kwargs):\n\u001b[32m--> \u001b[39m\u001b[32m100\u001b[39m     \u001b[38;5;28;43msuper\u001b[39;49m\u001b[43m(\u001b[49m\u001b[43m)\u001b[49m\u001b[43m.\u001b[49m\u001b[34;43m__init__\u001b[39;49m\u001b[43m(\u001b[49m\u001b[43mconfig\u001b[49m\u001b[43m,\u001b[49m\u001b[43m \u001b[49m\u001b[43m*\u001b[49m\u001b[43m*\u001b[49m\u001b[43mkwargs\u001b[49m\u001b[43m)\u001b[49m\n",
      "\u001b[36mFile \u001b[39m\u001b[32m~/tesi_triennale/neural-tabular-intrusion-detection-system/venv/lib/python3.12/site-packages/pytorch_tabular/models/base_model.py:171\u001b[39m, in \u001b[36mBaseModel.__init__\u001b[39m\u001b[34m(self, config, custom_loss, custom_metrics, custom_metrics_prob_inputs, custom_optimizer, custom_optimizer_params, **kwargs)\u001b[39m\n\u001b[32m    169\u001b[39m \u001b[38;5;28mself\u001b[39m._build_network()\n\u001b[32m    170\u001b[39m \u001b[38;5;28mself\u001b[39m._setup_loss()\n\u001b[32m--> \u001b[39m\u001b[32m171\u001b[39m \u001b[38;5;28;43mself\u001b[39;49m\u001b[43m.\u001b[49m\u001b[43m_setup_metrics\u001b[49m\u001b[43m(\u001b[49m\u001b[43m)\u001b[49m\n\u001b[32m    172\u001b[39m \u001b[38;5;28mself\u001b[39m._check_and_verify()\n\u001b[32m    173\u001b[39m \u001b[38;5;28mself\u001b[39m.do_log_logits = (\n\u001b[32m    174\u001b[39m     \u001b[38;5;28mhasattr\u001b[39m(\u001b[38;5;28mself\u001b[39m.hparams, \u001b[33m\"\u001b[39m\u001b[33mlog_logits\u001b[39m\u001b[33m\"\u001b[39m) \u001b[38;5;129;01mand\u001b[39;00m \u001b[38;5;28mself\u001b[39m.hparams.log_logits \u001b[38;5;129;01mand\u001b[39;00m \u001b[38;5;28mself\u001b[39m.hparams.log_target == \u001b[33m\"\u001b[39m\u001b[33mwandb\u001b[39m\u001b[33m\"\u001b[39m\n\u001b[32m    175\u001b[39m )\n",
      "\u001b[36mFile \u001b[39m\u001b[32m~/tesi_triennale/neural-tabular-intrusion-detection-system/venv/lib/python3.12/site-packages/pytorch_tabular/models/base_model.py:243\u001b[39m, in \u001b[36mBaseModel._setup_metrics\u001b[39m\u001b[34m(self)\u001b[39m\n\u001b[32m    239\u001b[39m         \u001b[38;5;28;01mexcept\u001b[39;00m \u001b[38;5;167;01mAttributeError\u001b[39;00m \u001b[38;5;28;01mas\u001b[39;00m e:\n\u001b[32m    240\u001b[39m             logger.error(\n\u001b[32m    241\u001b[39m                 \u001b[33mf\u001b[39m\u001b[33m\"\u001b[39m\u001b[38;5;132;01m{\u001b[39;00mmetric\u001b[38;5;132;01m}\u001b[39;00m\u001b[33m is not a valid functional metric defined in the torchmetrics.functional module\u001b[39m\u001b[33m\"\u001b[39m\n\u001b[32m    242\u001b[39m             )\n\u001b[32m--> \u001b[39m\u001b[32m243\u001b[39m             \u001b[38;5;28;01mraise\u001b[39;00m e\n\u001b[32m    244\u001b[39m \u001b[38;5;28;01melse\u001b[39;00m:\n\u001b[32m    245\u001b[39m     \u001b[38;5;28mself\u001b[39m.metrics = \u001b[38;5;28mself\u001b[39m.custom_metrics\n",
      "\u001b[36mFile \u001b[39m\u001b[32m~/tesi_triennale/neural-tabular-intrusion-detection-system/venv/lib/python3.12/site-packages/pytorch_tabular/models/base_model.py:238\u001b[39m, in \u001b[36mBaseModel._setup_metrics\u001b[39m\u001b[34m(self)\u001b[39m\n\u001b[32m    236\u001b[39m \u001b[38;5;28;01mfor\u001b[39;00m metric \u001b[38;5;129;01min\u001b[39;00m \u001b[38;5;28mself\u001b[39m.hparams.metrics:\n\u001b[32m    237\u001b[39m     \u001b[38;5;28;01mtry\u001b[39;00m:\n\u001b[32m--> \u001b[39m\u001b[32m238\u001b[39m         \u001b[38;5;28mself\u001b[39m.metrics.append(\u001b[38;5;28;43mgetattr\u001b[39;49m\u001b[43m(\u001b[49m\u001b[43mtask_module\u001b[49m\u001b[43m,\u001b[49m\u001b[43m \u001b[49m\u001b[43mmetric\u001b[49m\u001b[43m)\u001b[49m)\n\u001b[32m    239\u001b[39m     \u001b[38;5;28;01mexcept\u001b[39;00m \u001b[38;5;167;01mAttributeError\u001b[39;00m \u001b[38;5;28;01mas\u001b[39;00m e:\n\u001b[32m    240\u001b[39m         logger.error(\n\u001b[32m    241\u001b[39m             \u001b[33mf\u001b[39m\u001b[33m\"\u001b[39m\u001b[38;5;132;01m{\u001b[39;00mmetric\u001b[38;5;132;01m}\u001b[39;00m\u001b[33m is not a valid functional metric defined in the torchmetrics.functional module\u001b[39m\u001b[33m\"\u001b[39m\n\u001b[32m    242\u001b[39m         )\n",
      "\u001b[31mAttributeError\u001b[39m: module 'torchmetrics.functional' has no attribute 'balanced_accuracy'"
     ]
    }
   ],
   "source": [
    "ft_transformer_model.fit(train=train_df, validation=valid_df)"
   ]
  },
  {
   "cell_type": "markdown",
   "id": "2299bd3c",
   "metadata": {},
   "source": [
    "### Evaluation"
   ]
  },
  {
   "cell_type": "code",
   "execution_count": null,
   "id": "b018cbd7",
   "metadata": {},
   "outputs": [],
   "source": [
    "preds = ft_transformer_model.predict(test_df)\n",
    "y_true = test_df[TARGET_COL].values\n",
    "y_pred = preds[\"prediction\"].values.astype(int)\n",
    "\n",
    "acc = accuracy_score(y_true, y_pred)\n",
    "bal_acc = balanced_accuracy_score(y_true, y_pred)\n",
    "\n",
    "print(\"Test Accuracy: %.4f\", acc)\n",
    "print(\"Test Balanced Accuracy: %.4f\", bal_acc)\n",
    "print(\"Classification Report:\\n%s\", classification_report(y_true, y_pred))\n",
    "print(\"Confusion Matrix:\\n%s\", confusion_matrix(y_true, y_pred))"
   ]
  },
  {
   "cell_type": "markdown",
   "id": "b2dd9dd0",
   "metadata": {},
   "source": [
    "### Penultimate layer extraction "
   ]
  },
  {
   "cell_type": "code",
   "execution_count": null,
   "id": "c5ba249b",
   "metadata": {},
   "outputs": [],
   "source": [
    "dfe = DeepFeatureExtractor(ft_transformer_model, extract_keys=[\"backbone_features\"])\n",
    "emb_df = dfe.transform(test_df)\n",
    "feature_cols = [c for c in emb_df.columns if \"backbone_features\" in c]\n",
    "Z = emb_df[feature_cols].values"
   ]
  },
  {
   "cell_type": "markdown",
   "id": "955861ab",
   "metadata": {},
   "source": [
    "### Dimensionality reduction + clustering"
   ]
  },
  {
   "cell_type": "code",
   "execution_count": null,
   "id": "29e4cd4e",
   "metadata": {},
   "outputs": [],
   "source": [
    "Z_2d = PCA(n_components=2, random_state=RANDOM_STATE).fit_transform(Z)\n",
    "n_clusters = len(np.unique(y_true))\n",
    "labels = KMeans(n_clusters=n_clusters, random_state=RANDOM_STATE).fit_predict(Z_2d)\n"
   ]
  },
  {
   "cell_type": "markdown",
   "id": "65897364",
   "metadata": {},
   "source": [
    "### Plots"
   ]
  },
  {
   "cell_type": "code",
   "execution_count": null,
   "id": "ec31502c",
   "metadata": {},
   "outputs": [],
   "source": [
    "plt.figure(figsize=(10, 6))\n",
    "plt.scatter(Z_2d[:, 0], Z_2d[:, 1], c=labels, alpha=0.7, cmap=\"viridis\")\n",
    "plt.title(\"FT‑Transformer backbone features (2‑D PCA)\")\n",
    "plt.xlabel(\"PC1\")\n",
    "plt.ylabel(\"PC2\")\n",
    "plt.tight_layout()\n",
    "plt.show()"
   ]
  }
 ],
 "metadata": {
  "kernelspec": {
   "display_name": "venv",
   "language": "python",
   "name": "python3"
  },
  "language_info": {
   "codemirror_mode": {
    "name": "ipython",
    "version": 3
   },
   "file_extension": ".py",
   "mimetype": "text/x-python",
   "name": "python",
   "nbconvert_exporter": "python",
   "pygments_lexer": "ipython3",
   "version": "3.12.3"
  }
 },
 "nbformat": 4,
 "nbformat_minor": 5
}
