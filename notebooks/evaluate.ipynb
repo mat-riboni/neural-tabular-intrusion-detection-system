{
 "cells": [
  {
   "cell_type": "markdown",
   "id": "b9d6a7fe",
   "metadata": {},
   "source": [
    "# Evalutaion"
   ]
  },
  {
   "cell_type": "markdown",
   "id": "bc33724b",
   "metadata": {},
   "source": [
    "### Model and data loading"
   ]
  },
  {
   "cell_type": "code",
   "execution_count": 1,
   "id": "08d7f736",
   "metadata": {},
   "outputs": [],
   "source": [
    "import pandas as pd\n",
    "import joblib\n",
    "import sys\n",
    "import os\n",
    "from sklearn.metrics import classification_report\n",
    "\n",
    "\n",
    "project_root = os.path.abspath(os.path.join(os.getcwd(), '..'))\n",
    "if project_root not in sys.path:\n",
    "    sys.path.append(project_root)\n",
    "\n",
    "from src.data.preprocessor import TabnetPreprocessor\n",
    "from pytorch_tabnet.tab_model import TabNetClassifier\n"
   ]
  },
  {
   "cell_type": "code",
   "execution_count": 2,
   "id": "2d79c633",
   "metadata": {},
   "outputs": [
    {
     "name": "stdout",
     "output_type": "stream",
     "text": [
      "Model path: ../src/model/tabnet_model_small.zip\n",
      "Preprocessor path: ../src/model/preprocessor_small.pkl\n",
      "Test set path: ../src/data/test_set.csv\n"
     ]
    }
   ],
   "source": [
    "MODEL_SIZE = 'small' \n",
    "\n",
    "OUTPUT_DIR = '../src/model' \n",
    "\n",
    "MODEL_PATH = os.path.join(OUTPUT_DIR, f'tabnet_model_{MODEL_SIZE}.zip')\n",
    "PREPROCESSOR_PATH = os.path.join(OUTPUT_DIR, f'preprocessor_{MODEL_SIZE}.pkl')\n",
    "TEST_SET_PATH = '../src/data/test_set.csv' \n",
    "TARGET_COLUMN = 'Label' \n",
    "\n",
    "print(f\"Model path: {MODEL_PATH}\")\n",
    "print(f\"Preprocessor path: {PREPROCESSOR_PATH}\")\n",
    "print(f\"Test set path: {TEST_SET_PATH}\")"
   ]
  },
  {
   "cell_type": "code",
   "execution_count": 3,
   "id": "fa415905",
   "metadata": {},
   "outputs": [
    {
     "name": "stdout",
     "output_type": "stream",
     "text": [
      "Model and preprocessor loading...\n"
     ]
    },
    {
     "name": "stderr",
     "output_type": "stream",
     "text": [
      "/home/mat/tesi_triennale/neural-tabular-intrusion-detection-system/venv/lib/python3.12/site-packages/pytorch_tabnet/abstract_model.py:82: UserWarning: Device used : cuda\n",
      "  warnings.warn(f\"Device used : {self.device}\")\n"
     ]
    },
    {
     "name": "stdout",
     "output_type": "stream",
     "text": [
      "Loaded\n"
     ]
    }
   ],
   "source": [
    "print(\"Model and preprocessor loading...\")\n",
    "\n",
    "try:\n",
    "    loaded_preprocessor = joblib.load(PREPROCESSOR_PATH)\n",
    "\n",
    "    loaded_model = TabNetClassifier()\n",
    "    loaded_model.load_model(MODEL_PATH)\n",
    "\n",
    "    print(\"Loaded\")\n",
    "\n",
    "except FileNotFoundError as e:\n",
    "    print(f\"ERROR: File not found. {e}\")\n"
   ]
  },
  {
   "cell_type": "code",
   "execution_count": 4,
   "id": "fb7649ea",
   "metadata": {},
   "outputs": [
    {
     "name": "stdout",
     "output_type": "stream",
     "text": [
      "Test set loading\n",
      ": 448488 rows.\n"
     ]
    },
    {
     "name": "stderr",
     "output_type": "stream",
     "text": [
      "/home/mat/tesi_triennale/neural-tabular-intrusion-detection-system/src/data/preprocessor.py:131: FutureWarning: A value is trying to be set on a copy of a DataFrame or Series through chained assignment using an inplace method.\n",
      "The behavior will change in pandas 3.0. This inplace method will never work because the intermediate object on which we are setting values always behaves as a copy.\n",
      "\n",
      "For example, when doing 'df[col].method(value, inplace=True)', try using 'df.method({col: value}, inplace=True)' or df[col] = df[col].method(value) instead, to perform the operation inplace on the original object.\n",
      "\n",
      "\n",
      "  final_df[col_name].fillna(unknown_code, inplace=True)\n",
      "/home/mat/tesi_triennale/neural-tabular-intrusion-detection-system/src/data/preprocessor.py:133: FutureWarning: A value is trying to be set on a copy of a DataFrame or Series through chained assignment using an inplace method.\n",
      "The behavior will change in pandas 3.0. This inplace method will never work because the intermediate object on which we are setting values always behaves as a copy.\n",
      "\n",
      "For example, when doing 'df[col].method(value, inplace=True)', try using 'df.method({col: value}, inplace=True)' or df[col] = df[col].method(value) instead, to perform the operation inplace on the original object.\n",
      "\n",
      "\n",
      "  final_df[col_name].mask(final_df[col_name] == -1, unknown_code, inplace=True)\n",
      "/home/mat/tesi_triennale/neural-tabular-intrusion-detection-system/src/data/preprocessor.py:131: FutureWarning: A value is trying to be set on a copy of a DataFrame or Series through chained assignment using an inplace method.\n",
      "The behavior will change in pandas 3.0. This inplace method will never work because the intermediate object on which we are setting values always behaves as a copy.\n",
      "\n",
      "For example, when doing 'df[col].method(value, inplace=True)', try using 'df.method({col: value}, inplace=True)' or df[col] = df[col].method(value) instead, to perform the operation inplace on the original object.\n",
      "\n",
      "\n",
      "  final_df[col_name].fillna(unknown_code, inplace=True)\n",
      "/home/mat/tesi_triennale/neural-tabular-intrusion-detection-system/src/data/preprocessor.py:133: FutureWarning: A value is trying to be set on a copy of a DataFrame or Series through chained assignment using an inplace method.\n",
      "The behavior will change in pandas 3.0. This inplace method will never work because the intermediate object on which we are setting values always behaves as a copy.\n",
      "\n",
      "For example, when doing 'df[col].method(value, inplace=True)', try using 'df.method({col: value}, inplace=True)' or df[col] = df[col].method(value) instead, to perform the operation inplace on the original object.\n",
      "\n",
      "\n",
      "  final_df[col_name].mask(final_df[col_name] == -1, unknown_code, inplace=True)\n",
      "/home/mat/tesi_triennale/neural-tabular-intrusion-detection-system/src/data/preprocessor.py:131: FutureWarning: A value is trying to be set on a copy of a DataFrame or Series through chained assignment using an inplace method.\n",
      "The behavior will change in pandas 3.0. This inplace method will never work because the intermediate object on which we are setting values always behaves as a copy.\n",
      "\n",
      "For example, when doing 'df[col].method(value, inplace=True)', try using 'df.method({col: value}, inplace=True)' or df[col] = df[col].method(value) instead, to perform the operation inplace on the original object.\n",
      "\n",
      "\n",
      "  final_df[col_name].fillna(unknown_code, inplace=True)\n",
      "/home/mat/tesi_triennale/neural-tabular-intrusion-detection-system/src/data/preprocessor.py:133: FutureWarning: A value is trying to be set on a copy of a DataFrame or Series through chained assignment using an inplace method.\n",
      "The behavior will change in pandas 3.0. This inplace method will never work because the intermediate object on which we are setting values always behaves as a copy.\n",
      "\n",
      "For example, when doing 'df[col].method(value, inplace=True)', try using 'df.method({col: value}, inplace=True)' or df[col] = df[col].method(value) instead, to perform the operation inplace on the original object.\n",
      "\n",
      "\n",
      "  final_df[col_name].mask(final_df[col_name] == -1, unknown_code, inplace=True)\n",
      "/home/mat/tesi_triennale/neural-tabular-intrusion-detection-system/src/data/preprocessor.py:131: FutureWarning: A value is trying to be set on a copy of a DataFrame or Series through chained assignment using an inplace method.\n",
      "The behavior will change in pandas 3.0. This inplace method will never work because the intermediate object on which we are setting values always behaves as a copy.\n",
      "\n",
      "For example, when doing 'df[col].method(value, inplace=True)', try using 'df.method({col: value}, inplace=True)' or df[col] = df[col].method(value) instead, to perform the operation inplace on the original object.\n",
      "\n",
      "\n",
      "  final_df[col_name].fillna(unknown_code, inplace=True)\n",
      "/home/mat/tesi_triennale/neural-tabular-intrusion-detection-system/src/data/preprocessor.py:133: FutureWarning: A value is trying to be set on a copy of a DataFrame or Series through chained assignment using an inplace method.\n",
      "The behavior will change in pandas 3.0. This inplace method will never work because the intermediate object on which we are setting values always behaves as a copy.\n",
      "\n",
      "For example, when doing 'df[col].method(value, inplace=True)', try using 'df.method({col: value}, inplace=True)' or df[col] = df[col].method(value) instead, to perform the operation inplace on the original object.\n",
      "\n",
      "\n",
      "  final_df[col_name].mask(final_df[col_name] == -1, unknown_code, inplace=True)\n",
      "/home/mat/tesi_triennale/neural-tabular-intrusion-detection-system/src/data/preprocessor.py:131: FutureWarning: A value is trying to be set on a copy of a DataFrame or Series through chained assignment using an inplace method.\n",
      "The behavior will change in pandas 3.0. This inplace method will never work because the intermediate object on which we are setting values always behaves as a copy.\n",
      "\n",
      "For example, when doing 'df[col].method(value, inplace=True)', try using 'df.method({col: value}, inplace=True)' or df[col] = df[col].method(value) instead, to perform the operation inplace on the original object.\n",
      "\n",
      "\n",
      "  final_df[col_name].fillna(unknown_code, inplace=True)\n",
      "/home/mat/tesi_triennale/neural-tabular-intrusion-detection-system/src/data/preprocessor.py:133: FutureWarning: A value is trying to be set on a copy of a DataFrame or Series through chained assignment using an inplace method.\n",
      "The behavior will change in pandas 3.0. This inplace method will never work because the intermediate object on which we are setting values always behaves as a copy.\n",
      "\n",
      "For example, when doing 'df[col].method(value, inplace=True)', try using 'df.method({col: value}, inplace=True)' or df[col] = df[col].method(value) instead, to perform the operation inplace on the original object.\n",
      "\n",
      "\n",
      "  final_df[col_name].mask(final_df[col_name] == -1, unknown_code, inplace=True)\n",
      "/home/mat/tesi_triennale/neural-tabular-intrusion-detection-system/src/data/preprocessor.py:131: FutureWarning: A value is trying to be set on a copy of a DataFrame or Series through chained assignment using an inplace method.\n",
      "The behavior will change in pandas 3.0. This inplace method will never work because the intermediate object on which we are setting values always behaves as a copy.\n",
      "\n",
      "For example, when doing 'df[col].method(value, inplace=True)', try using 'df.method({col: value}, inplace=True)' or df[col] = df[col].method(value) instead, to perform the operation inplace on the original object.\n",
      "\n",
      "\n",
      "  final_df[col_name].fillna(unknown_code, inplace=True)\n",
      "/home/mat/tesi_triennale/neural-tabular-intrusion-detection-system/src/data/preprocessor.py:133: FutureWarning: A value is trying to be set on a copy of a DataFrame or Series through chained assignment using an inplace method.\n",
      "The behavior will change in pandas 3.0. This inplace method will never work because the intermediate object on which we are setting values always behaves as a copy.\n",
      "\n",
      "For example, when doing 'df[col].method(value, inplace=True)', try using 'df.method({col: value}, inplace=True)' or df[col] = df[col].method(value) instead, to perform the operation inplace on the original object.\n",
      "\n",
      "\n",
      "  final_df[col_name].mask(final_df[col_name] == -1, unknown_code, inplace=True)\n",
      "/home/mat/tesi_triennale/neural-tabular-intrusion-detection-system/src/data/preprocessor.py:131: FutureWarning: A value is trying to be set on a copy of a DataFrame or Series through chained assignment using an inplace method.\n",
      "The behavior will change in pandas 3.0. This inplace method will never work because the intermediate object on which we are setting values always behaves as a copy.\n",
      "\n",
      "For example, when doing 'df[col].method(value, inplace=True)', try using 'df.method({col: value}, inplace=True)' or df[col] = df[col].method(value) instead, to perform the operation inplace on the original object.\n",
      "\n",
      "\n",
      "  final_df[col_name].fillna(unknown_code, inplace=True)\n",
      "/home/mat/tesi_triennale/neural-tabular-intrusion-detection-system/src/data/preprocessor.py:133: FutureWarning: A value is trying to be set on a copy of a DataFrame or Series through chained assignment using an inplace method.\n",
      "The behavior will change in pandas 3.0. This inplace method will never work because the intermediate object on which we are setting values always behaves as a copy.\n",
      "\n",
      "For example, when doing 'df[col].method(value, inplace=True)', try using 'df.method({col: value}, inplace=True)' or df[col] = df[col].method(value) instead, to perform the operation inplace on the original object.\n",
      "\n",
      "\n",
      "  final_df[col_name].mask(final_df[col_name] == -1, unknown_code, inplace=True)\n",
      "/home/mat/tesi_triennale/neural-tabular-intrusion-detection-system/src/data/preprocessor.py:131: FutureWarning: A value is trying to be set on a copy of a DataFrame or Series through chained assignment using an inplace method.\n",
      "The behavior will change in pandas 3.0. This inplace method will never work because the intermediate object on which we are setting values always behaves as a copy.\n",
      "\n",
      "For example, when doing 'df[col].method(value, inplace=True)', try using 'df.method({col: value}, inplace=True)' or df[col] = df[col].method(value) instead, to perform the operation inplace on the original object.\n",
      "\n",
      "\n",
      "  final_df[col_name].fillna(unknown_code, inplace=True)\n",
      "/home/mat/tesi_triennale/neural-tabular-intrusion-detection-system/src/data/preprocessor.py:133: FutureWarning: A value is trying to be set on a copy of a DataFrame or Series through chained assignment using an inplace method.\n",
      "The behavior will change in pandas 3.0. This inplace method will never work because the intermediate object on which we are setting values always behaves as a copy.\n",
      "\n",
      "For example, when doing 'df[col].method(value, inplace=True)', try using 'df.method({col: value}, inplace=True)' or df[col] = df[col].method(value) instead, to perform the operation inplace on the original object.\n",
      "\n",
      "\n",
      "  final_df[col_name].mask(final_df[col_name] == -1, unknown_code, inplace=True)\n",
      "/home/mat/tesi_triennale/neural-tabular-intrusion-detection-system/src/data/preprocessor.py:131: FutureWarning: A value is trying to be set on a copy of a DataFrame or Series through chained assignment using an inplace method.\n",
      "The behavior will change in pandas 3.0. This inplace method will never work because the intermediate object on which we are setting values always behaves as a copy.\n",
      "\n",
      "For example, when doing 'df[col].method(value, inplace=True)', try using 'df.method({col: value}, inplace=True)' or df[col] = df[col].method(value) instead, to perform the operation inplace on the original object.\n",
      "\n",
      "\n",
      "  final_df[col_name].fillna(unknown_code, inplace=True)\n",
      "/home/mat/tesi_triennale/neural-tabular-intrusion-detection-system/src/data/preprocessor.py:133: FutureWarning: A value is trying to be set on a copy of a DataFrame or Series through chained assignment using an inplace method.\n",
      "The behavior will change in pandas 3.0. This inplace method will never work because the intermediate object on which we are setting values always behaves as a copy.\n",
      "\n",
      "For example, when doing 'df[col].method(value, inplace=True)', try using 'df.method({col: value}, inplace=True)' or df[col] = df[col].method(value) instead, to perform the operation inplace on the original object.\n",
      "\n",
      "\n",
      "  final_df[col_name].mask(final_df[col_name] == -1, unknown_code, inplace=True)\n"
     ]
    }
   ],
   "source": [
    "print(\"Test set loading\")\n",
    "test_df = pd.read_csv(TEST_SET_PATH)\n",
    "\n",
    "X_test = test_df.drop(columns=[TARGET_COLUMN])\n",
    "y_test = test_df[TARGET_COLUMN]\n",
    "\n",
    "print(f\": {len(test_df)} rows.\")\n",
    "\n",
    "X_test_processed = loaded_preprocessor.transform(X_test)\n"
   ]
  },
  {
   "cell_type": "code",
   "execution_count": 5,
   "id": "ab64c957",
   "metadata": {},
   "outputs": [
    {
     "name": "stdout",
     "output_type": "stream",
     "text": [
      "Prediciting...\n",
      "\n",
      "==============================================\n",
      "  Report (Model: small)\n",
      "==============================================\n",
      "              precision    recall  f1-score   support\n",
      "\n",
      "           0       1.00      1.00      1.00    430149\n",
      "           1       0.98      1.00      0.99     18339\n",
      "\n",
      "    accuracy                           1.00    448488\n",
      "   macro avg       0.99      1.00      0.99    448488\n",
      "weighted avg       1.00      1.00      1.00    448488\n",
      "\n"
     ]
    }
   ],
   "source": [
    "print(\"Prediciting...\")\n",
    "y_pred = loaded_model.predict(X_test_processed.values)\n",
    "\n",
    "report = classification_report(y_test, y_pred)\n",
    "\n",
    "print(\"\\n==============================================\")\n",
    "print(f\"  Report (Model: {MODEL_SIZE})\")\n",
    "print(\"==============================================\")\n",
    "print(report)"
   ]
  }
 ],
 "metadata": {
  "kernelspec": {
   "display_name": "venv",
   "language": "python",
   "name": "python3"
  },
  "language_info": {
   "codemirror_mode": {
    "name": "ipython",
    "version": 3
   },
   "file_extension": ".py",
   "mimetype": "text/x-python",
   "name": "python",
   "nbconvert_exporter": "python",
   "pygments_lexer": "ipython3",
   "version": "3.12.3"
  }
 },
 "nbformat": 4,
 "nbformat_minor": 5
}
