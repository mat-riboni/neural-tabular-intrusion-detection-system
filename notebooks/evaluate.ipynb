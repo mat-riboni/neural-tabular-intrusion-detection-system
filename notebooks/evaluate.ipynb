{
 "cells": [
  {
   "cell_type": "markdown",
   "id": "b9d6a7fe",
   "metadata": {},
   "source": [
    "# Evalutaion"
   ]
  },
  {
   "cell_type": "markdown",
   "id": "bc33724b",
   "metadata": {},
   "source": [
    "### Model and data loading"
   ]
  },
  {
   "cell_type": "code",
   "execution_count": null,
   "id": "08d7f736",
   "metadata": {},
   "outputs": [
    {
     "name": "stdout",
     "output_type": "stream",
     "text": [
      "\n",
      "Librerie e percorsi configurati con successo.\n"
     ]
    }
   ],
   "source": [
    "import pandas as pd\n",
    "import joblib\n",
    "import sys\n",
    "import os\n",
    "from sklearn.metrics import classification_report\n",
    "\n",
    "\n",
    "project_root = os.path.abspath(os.path.join(os.getcwd(), '..'))\n",
    "if project_root not in sys.path:\n",
    "    sys.path.append(project_root)\n",
    "\n",
    "from src.data.preprocessor import TabnetPreprocessor\n",
    "from pytorch_tabnet.tab_model import TabNetClassifier\n"
   ]
  },
  {
   "cell_type": "code",
   "execution_count": null,
   "id": "2d79c633",
   "metadata": {},
   "outputs": [
    {
     "name": "stdout",
     "output_type": "stream",
     "text": [
      "Percorso Modello: ../src/model/tabnet_model_small.zip\n",
      "Percorso Preprocessor: ../src/model/preprocessor_small.pkl\n",
      "Percorso Test Set: ../src/data/test_set.csv\n"
     ]
    }
   ],
   "source": [
    "MODEL_SIZE = 'small' \n",
    "\n",
    "OUTPUT_DIR = '../src/model' \n",
    "\n",
    "MODEL_PATH = os.path.join(OUTPUT_DIR, f'tabnet_model_{MODEL_SIZE}.zip')\n",
    "PREPROCESSOR_PATH = os.path.join(OUTPUT_DIR, f'preprocessor_{MODEL_SIZE}.pkl')\n",
    "TEST_SET_PATH = '../src/data/test_set.csv' \n",
    "TARGET_COLUMN = 'Label' \n",
    "\n",
    "print(f\"Model path: {MODEL_PATH}\")\n",
    "print(f\"Preprocessor path: {PREPROCESSOR_PATH}\")\n",
    "print(f\"Test set path: {TEST_SET_PATH}\")"
   ]
  },
  {
   "cell_type": "code",
   "execution_count": null,
   "id": "fa415905",
   "metadata": {},
   "outputs": [
    {
     "name": "stdout",
     "output_type": "stream",
     "text": [
      "Caricamento del modello e del preprocessor...\n",
      "✅ Modello e Preprocessor caricati con successo.\n"
     ]
    }
   ],
   "source": [
    "print(\"Model and preprocessor loading...\")\n",
    "\n",
    "try:\n",
    "    loaded_preprocessor = joblib.load(PREPROCESSOR_PATH)\n",
    "\n",
    "    loaded_model = TabNetClassifier()\n",
    "    loaded_model.load_model(MODEL_PATH)\n",
    "\n",
    "    print(\"Loaded\")\n",
    "\n",
    "except FileNotFoundError as e:\n",
    "    print(f\"ERROR: File not found. {e}\")\n"
   ]
  },
  {
   "cell_type": "code",
   "execution_count": null,
   "id": "fb7649ea",
   "metadata": {},
   "outputs": [
    {
     "name": "stdout",
     "output_type": "stream",
     "text": [
      "Caricamento dati di test grezzi...\n",
      "Dati di test caricati: 448358 campioni.\n",
      "Applicazione del preprocessing al test set...\n",
      "✅ Dati di test trasformati e pronti per la valutazione.\n"
     ]
    },
    {
     "name": "stderr",
     "output_type": "stream",
     "text": [
      "/home/mat-rib/Documents/neural-tabular-intrusion-detection-system/src/data/preprocessor.py:131: FutureWarning: A value is trying to be set on a copy of a DataFrame or Series through chained assignment using an inplace method.\n",
      "The behavior will change in pandas 3.0. This inplace method will never work because the intermediate object on which we are setting values always behaves as a copy.\n",
      "\n",
      "For example, when doing 'df[col].method(value, inplace=True)', try using 'df.method({col: value}, inplace=True)' or df[col] = df[col].method(value) instead, to perform the operation inplace on the original object.\n",
      "\n",
      "\n",
      "  final_df[col_name].fillna(unknown_code, inplace=True)\n",
      "/home/mat-rib/Documents/neural-tabular-intrusion-detection-system/src/data/preprocessor.py:133: FutureWarning: A value is trying to be set on a copy of a DataFrame or Series through chained assignment using an inplace method.\n",
      "The behavior will change in pandas 3.0. This inplace method will never work because the intermediate object on which we are setting values always behaves as a copy.\n",
      "\n",
      "For example, when doing 'df[col].method(value, inplace=True)', try using 'df.method({col: value}, inplace=True)' or df[col] = df[col].method(value) instead, to perform the operation inplace on the original object.\n",
      "\n",
      "\n",
      "  final_df[col_name].mask(final_df[col_name] == -1, unknown_code, inplace=True)\n",
      "/home/mat-rib/Documents/neural-tabular-intrusion-detection-system/src/data/preprocessor.py:131: FutureWarning: A value is trying to be set on a copy of a DataFrame or Series through chained assignment using an inplace method.\n",
      "The behavior will change in pandas 3.0. This inplace method will never work because the intermediate object on which we are setting values always behaves as a copy.\n",
      "\n",
      "For example, when doing 'df[col].method(value, inplace=True)', try using 'df.method({col: value}, inplace=True)' or df[col] = df[col].method(value) instead, to perform the operation inplace on the original object.\n",
      "\n",
      "\n",
      "  final_df[col_name].fillna(unknown_code, inplace=True)\n",
      "/home/mat-rib/Documents/neural-tabular-intrusion-detection-system/src/data/preprocessor.py:133: FutureWarning: A value is trying to be set on a copy of a DataFrame or Series through chained assignment using an inplace method.\n",
      "The behavior will change in pandas 3.0. This inplace method will never work because the intermediate object on which we are setting values always behaves as a copy.\n",
      "\n",
      "For example, when doing 'df[col].method(value, inplace=True)', try using 'df.method({col: value}, inplace=True)' or df[col] = df[col].method(value) instead, to perform the operation inplace on the original object.\n",
      "\n",
      "\n",
      "  final_df[col_name].mask(final_df[col_name] == -1, unknown_code, inplace=True)\n",
      "/home/mat-rib/Documents/neural-tabular-intrusion-detection-system/src/data/preprocessor.py:131: FutureWarning: A value is trying to be set on a copy of a DataFrame or Series through chained assignment using an inplace method.\n",
      "The behavior will change in pandas 3.0. This inplace method will never work because the intermediate object on which we are setting values always behaves as a copy.\n",
      "\n",
      "For example, when doing 'df[col].method(value, inplace=True)', try using 'df.method({col: value}, inplace=True)' or df[col] = df[col].method(value) instead, to perform the operation inplace on the original object.\n",
      "\n",
      "\n",
      "  final_df[col_name].fillna(unknown_code, inplace=True)\n",
      "/home/mat-rib/Documents/neural-tabular-intrusion-detection-system/src/data/preprocessor.py:133: FutureWarning: A value is trying to be set on a copy of a DataFrame or Series through chained assignment using an inplace method.\n",
      "The behavior will change in pandas 3.0. This inplace method will never work because the intermediate object on which we are setting values always behaves as a copy.\n",
      "\n",
      "For example, when doing 'df[col].method(value, inplace=True)', try using 'df.method({col: value}, inplace=True)' or df[col] = df[col].method(value) instead, to perform the operation inplace on the original object.\n",
      "\n",
      "\n",
      "  final_df[col_name].mask(final_df[col_name] == -1, unknown_code, inplace=True)\n",
      "/home/mat-rib/Documents/neural-tabular-intrusion-detection-system/src/data/preprocessor.py:131: FutureWarning: A value is trying to be set on a copy of a DataFrame or Series through chained assignment using an inplace method.\n",
      "The behavior will change in pandas 3.0. This inplace method will never work because the intermediate object on which we are setting values always behaves as a copy.\n",
      "\n",
      "For example, when doing 'df[col].method(value, inplace=True)', try using 'df.method({col: value}, inplace=True)' or df[col] = df[col].method(value) instead, to perform the operation inplace on the original object.\n",
      "\n",
      "\n",
      "  final_df[col_name].fillna(unknown_code, inplace=True)\n",
      "/home/mat-rib/Documents/neural-tabular-intrusion-detection-system/src/data/preprocessor.py:133: FutureWarning: A value is trying to be set on a copy of a DataFrame or Series through chained assignment using an inplace method.\n",
      "The behavior will change in pandas 3.0. This inplace method will never work because the intermediate object on which we are setting values always behaves as a copy.\n",
      "\n",
      "For example, when doing 'df[col].method(value, inplace=True)', try using 'df.method({col: value}, inplace=True)' or df[col] = df[col].method(value) instead, to perform the operation inplace on the original object.\n",
      "\n",
      "\n",
      "  final_df[col_name].mask(final_df[col_name] == -1, unknown_code, inplace=True)\n",
      "/home/mat-rib/Documents/neural-tabular-intrusion-detection-system/src/data/preprocessor.py:131: FutureWarning: A value is trying to be set on a copy of a DataFrame or Series through chained assignment using an inplace method.\n",
      "The behavior will change in pandas 3.0. This inplace method will never work because the intermediate object on which we are setting values always behaves as a copy.\n",
      "\n",
      "For example, when doing 'df[col].method(value, inplace=True)', try using 'df.method({col: value}, inplace=True)' or df[col] = df[col].method(value) instead, to perform the operation inplace on the original object.\n",
      "\n",
      "\n",
      "  final_df[col_name].fillna(unknown_code, inplace=True)\n",
      "/home/mat-rib/Documents/neural-tabular-intrusion-detection-system/src/data/preprocessor.py:133: FutureWarning: A value is trying to be set on a copy of a DataFrame or Series through chained assignment using an inplace method.\n",
      "The behavior will change in pandas 3.0. This inplace method will never work because the intermediate object on which we are setting values always behaves as a copy.\n",
      "\n",
      "For example, when doing 'df[col].method(value, inplace=True)', try using 'df.method({col: value}, inplace=True)' or df[col] = df[col].method(value) instead, to perform the operation inplace on the original object.\n",
      "\n",
      "\n",
      "  final_df[col_name].mask(final_df[col_name] == -1, unknown_code, inplace=True)\n",
      "/home/mat-rib/Documents/neural-tabular-intrusion-detection-system/src/data/preprocessor.py:131: FutureWarning: A value is trying to be set on a copy of a DataFrame or Series through chained assignment using an inplace method.\n",
      "The behavior will change in pandas 3.0. This inplace method will never work because the intermediate object on which we are setting values always behaves as a copy.\n",
      "\n",
      "For example, when doing 'df[col].method(value, inplace=True)', try using 'df.method({col: value}, inplace=True)' or df[col] = df[col].method(value) instead, to perform the operation inplace on the original object.\n",
      "\n",
      "\n",
      "  final_df[col_name].fillna(unknown_code, inplace=True)\n",
      "/home/mat-rib/Documents/neural-tabular-intrusion-detection-system/src/data/preprocessor.py:133: FutureWarning: A value is trying to be set on a copy of a DataFrame or Series through chained assignment using an inplace method.\n",
      "The behavior will change in pandas 3.0. This inplace method will never work because the intermediate object on which we are setting values always behaves as a copy.\n",
      "\n",
      "For example, when doing 'df[col].method(value, inplace=True)', try using 'df.method({col: value}, inplace=True)' or df[col] = df[col].method(value) instead, to perform the operation inplace on the original object.\n",
      "\n",
      "\n",
      "  final_df[col_name].mask(final_df[col_name] == -1, unknown_code, inplace=True)\n",
      "/home/mat-rib/Documents/neural-tabular-intrusion-detection-system/src/data/preprocessor.py:131: FutureWarning: A value is trying to be set on a copy of a DataFrame or Series through chained assignment using an inplace method.\n",
      "The behavior will change in pandas 3.0. This inplace method will never work because the intermediate object on which we are setting values always behaves as a copy.\n",
      "\n",
      "For example, when doing 'df[col].method(value, inplace=True)', try using 'df.method({col: value}, inplace=True)' or df[col] = df[col].method(value) instead, to perform the operation inplace on the original object.\n",
      "\n",
      "\n",
      "  final_df[col_name].fillna(unknown_code, inplace=True)\n",
      "/home/mat-rib/Documents/neural-tabular-intrusion-detection-system/src/data/preprocessor.py:133: FutureWarning: A value is trying to be set on a copy of a DataFrame or Series through chained assignment using an inplace method.\n",
      "The behavior will change in pandas 3.0. This inplace method will never work because the intermediate object on which we are setting values always behaves as a copy.\n",
      "\n",
      "For example, when doing 'df[col].method(value, inplace=True)', try using 'df.method({col: value}, inplace=True)' or df[col] = df[col].method(value) instead, to perform the operation inplace on the original object.\n",
      "\n",
      "\n",
      "  final_df[col_name].mask(final_df[col_name] == -1, unknown_code, inplace=True)\n",
      "/home/mat-rib/Documents/neural-tabular-intrusion-detection-system/src/data/preprocessor.py:131: FutureWarning: A value is trying to be set on a copy of a DataFrame or Series through chained assignment using an inplace method.\n",
      "The behavior will change in pandas 3.0. This inplace method will never work because the intermediate object on which we are setting values always behaves as a copy.\n",
      "\n",
      "For example, when doing 'df[col].method(value, inplace=True)', try using 'df.method({col: value}, inplace=True)' or df[col] = df[col].method(value) instead, to perform the operation inplace on the original object.\n",
      "\n",
      "\n",
      "  final_df[col_name].fillna(unknown_code, inplace=True)\n",
      "/home/mat-rib/Documents/neural-tabular-intrusion-detection-system/src/data/preprocessor.py:133: FutureWarning: A value is trying to be set on a copy of a DataFrame or Series through chained assignment using an inplace method.\n",
      "The behavior will change in pandas 3.0. This inplace method will never work because the intermediate object on which we are setting values always behaves as a copy.\n",
      "\n",
      "For example, when doing 'df[col].method(value, inplace=True)', try using 'df.method({col: value}, inplace=True)' or df[col] = df[col].method(value) instead, to perform the operation inplace on the original object.\n",
      "\n",
      "\n",
      "  final_df[col_name].mask(final_df[col_name] == -1, unknown_code, inplace=True)\n",
      "/home/mat-rib/Documents/neural-tabular-intrusion-detection-system/src/data/preprocessor.py:131: FutureWarning: A value is trying to be set on a copy of a DataFrame or Series through chained assignment using an inplace method.\n",
      "The behavior will change in pandas 3.0. This inplace method will never work because the intermediate object on which we are setting values always behaves as a copy.\n",
      "\n",
      "For example, when doing 'df[col].method(value, inplace=True)', try using 'df.method({col: value}, inplace=True)' or df[col] = df[col].method(value) instead, to perform the operation inplace on the original object.\n",
      "\n",
      "\n",
      "  final_df[col_name].fillna(unknown_code, inplace=True)\n",
      "/home/mat-rib/Documents/neural-tabular-intrusion-detection-system/src/data/preprocessor.py:133: FutureWarning: A value is trying to be set on a copy of a DataFrame or Series through chained assignment using an inplace method.\n",
      "The behavior will change in pandas 3.0. This inplace method will never work because the intermediate object on which we are setting values always behaves as a copy.\n",
      "\n",
      "For example, when doing 'df[col].method(value, inplace=True)', try using 'df.method({col: value}, inplace=True)' or df[col] = df[col].method(value) instead, to perform the operation inplace on the original object.\n",
      "\n",
      "\n",
      "  final_df[col_name].mask(final_df[col_name] == -1, unknown_code, inplace=True)\n"
     ]
    }
   ],
   "source": [
    "print(\"Test set loading\")\n",
    "test_df = pd.read_csv(TEST_SET_PATH)\n",
    "\n",
    "X_test = test_df.drop(columns=[TARGET_COLUMN])\n",
    "y_test = test_df[TARGET_COLUMN]\n",
    "\n",
    "print(f\": {len(test_df)} rows.\")\n",
    "\n",
    "X_test_processed = loaded_preprocessor.transform(X_test)\n"
   ]
  },
  {
   "cell_type": "code",
   "execution_count": null,
   "id": "ab64c957",
   "metadata": {},
   "outputs": [
    {
     "name": "stdout",
     "output_type": "stream",
     "text": [
      "Esecuzione delle previsioni sul set di test...\n",
      "Previsioni completate.\n",
      "\n",
      "==============================================\n",
      "  REPORT DI VALUTAZIONE (Modello: small)\n",
      "==============================================\n",
      "              precision    recall  f1-score   support\n",
      "\n",
      "           0       1.00      1.00      1.00    429883\n",
      "           1       1.00      1.00      1.00     18475\n",
      "\n",
      "    accuracy                           1.00    448358\n",
      "   macro avg       1.00      1.00      1.00    448358\n",
      "weighted avg       1.00      1.00      1.00    448358\n",
      "\n"
     ]
    }
   ],
   "source": [
    "print(\"Prediciting...\")\n",
    "y_pred = loaded_model.predict(X_test_processed.values)\n",
    "\n",
    "report = classification_report(y_test, y_pred)\n",
    "\n",
    "print(\"\\n==============================================\")\n",
    "print(f\"  Report (Model: {MODEL_SIZE})\")\n",
    "print(\"==============================================\")\n",
    "print(report)"
   ]
  }
 ],
 "metadata": {
  "kernelspec": {
   "display_name": "venv",
   "language": "python",
   "name": "python3"
  },
  "language_info": {
   "codemirror_mode": {
    "name": "ipython",
    "version": 3
   },
   "file_extension": ".py",
   "mimetype": "text/x-python",
   "name": "python",
   "nbconvert_exporter": "python",
   "pygments_lexer": "ipython3",
   "version": "3.12.3"
  }
 },
 "nbformat": 4,
 "nbformat_minor": 5
}
